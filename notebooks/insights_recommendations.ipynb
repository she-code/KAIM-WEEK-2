{
 "cells": [
  {
   "cell_type": "markdown",
   "id": "ee446b71",
   "metadata": {},
   "source": [
    "1. Load Cleaned Data python"
   ]
  },
  {
   "cell_type": "code",
   "execution_count": 3,
   "id": "af59466c",
   "metadata": {},
   "outputs": [
    {
     "name": "stdout",
     "output_type": "stream",
     "text": [
      "Data loaded successfully from ../data/processed/enhanced_sentiment_analysis.csv\n"
     ]
    }
   ],
   "source": [
    "\n",
    "import pandas as pd\n",
    "import numpy as np\n",
    "import matplotlib.pyplot as plt\n",
    "import seaborn as sns\n",
    "import sys\n",
    "sys.path.append('../src') \n",
    "\n",
    "from utils.data_loader import load_data\n",
    "\n",
    "# Load data\n",
    "df = load_data('../data/processed/enhanced_sentiment_analysis.csv')\n"
   ]
  },
  {
   "cell_type": "markdown",
   "id": "7610297b",
   "metadata": {},
   "source": [
    "2.  Identify Drivers and Pain Points"
   ]
  },
  {
   "cell_type": "code",
   "execution_count": null,
   "id": "556d6eb7",
   "metadata": {},
   "outputs": [
    {
     "name": "stdout",
     "output_type": "stream",
     "text": [
      "Top Drivers:\n",
      " identified_theme(s)\n",
      "General Feedback                                      1948\n",
      "User Experience & Design                              1367\n",
      "User Experience                                        267\n",
      "User Experience & Design, Functionality & Features     249\n",
      "Functionality & Features                                93\n",
      "Name: count, dtype: int64\n",
      "\n",
      "Top Pain Points:\n",
      " identified_theme(s)\n",
      "General Feedback            978\n",
      "Functionality & Features    173\n",
      "Technical Issues            145\n",
      "User Experience & Design     94\n",
      "App Performance              77\n",
      "Name: count, dtype: int64\n"
     ]
    }
   ],
   "source": [
    "# Common themes in positive reviews (Drivers)\n",
    "drivers = df[df[\"sentiment_label\"] == \"positive\"][\"identified_theme(s)\"].value_counts().head(5)\n",
    "\n",
    "# Common themes in negative reviews (Pain Points)\n",
    "pain_points = df[df[\"sentiment_label\"] == \"negative\"][\"identified_theme(s)\"].value_counts().head(5)\n",
    "\n",
    "print(\"Top Drivers:\\n\", drivers)\n",
    "print(\"\\nTop Pain Points:\\n\", pain_points)\n"
   ]
  },
  {
   "cell_type": "markdown",
   "id": "0f42a1c7",
   "metadata": {},
   "source": [
    "2.1 Drivers Bank Wise - Dashen Bank"
   ]
  },
  {
   "cell_type": "code",
   "execution_count": null,
   "id": "b028fddf",
   "metadata": {},
   "outputs": [
    {
     "data": {
      "application/vnd.microsoft.datawrangler.viewer.v0+json": {
       "columns": [
        {
         "name": "index",
         "rawType": "int64",
         "type": "integer"
        },
        {
         "name": "review_id",
         "rawType": "int64",
         "type": "integer"
        },
        {
         "name": "review_text",
         "rawType": "object",
         "type": "unknown"
        },
        {
         "name": "sentiment_label",
         "rawType": "object",
         "type": "string"
        },
        {
         "name": "sentiment_score",
         "rawType": "float64",
         "type": "float"
        },
        {
         "name": "identified_theme(s)",
         "rawType": "object",
         "type": "string"
        },
        {
         "name": "bank",
         "rawType": "object",
         "type": "string"
        },
        {
         "name": "rating",
         "rawType": "int64",
         "type": "integer"
        }
       ],
       "ref": "97a2f4b0-056e-4251-ab0b-f578a4d6d282",
       "rows": [
        [
         "5569",
         "5569",
         "wow",
         "positive",
         "0.999592125415802",
         "General Feedback",
         "Dashen Bank",
         "5"
        ],
        [
         "5571",
         "5571",
         "massive upgrade amole app",
         "positive",
         "0.9646419882774352",
         "General Feedback",
         "Dashen Bank",
         "5"
        ],
        [
         "5572",
         "5572",
         "good",
         "positive",
         "0.999816119670868",
         "User Experience",
         "Dashen Bank",
         "4"
        ],
        [
         "5573",
         "5573",
         "good app",
         "positive",
         "0.9998138546943665",
         "User Experience",
         "Dashen Bank",
         "5"
        ],
        [
         "5574",
         "5574",
         null,
         "positive",
         "0.9997069239616394",
         "General Feedback",
         "Dashen Bank",
         "5"
        ],
        [
         "5576",
         "5576",
         "wow",
         "positive",
         "0.999592125415802",
         "General Feedback",
         "Dashen Bank",
         "5"
        ],
        [
         "5577",
         "5577",
         "good",
         "positive",
         "0.999816119670868",
         "User Experience",
         "Dashen Bank",
         "5"
        ],
        [
         "5578",
         "5578",
         "wow saff app",
         "positive",
         "0.998571276664734",
         "General Feedback",
         "Dashen Bank",
         "5"
        ],
        [
         "5580",
         "5580",
         "real life changer",
         "positive",
         "0.9997788071632384",
         "Technical Problems",
         "Dashen Bank",
         "5"
        ],
        [
         "5581",
         "5581",
         "good",
         "positive",
         "0.999816119670868",
         "User Experience",
         "Dashen Bank",
         "5"
        ],
        [
         "5582",
         "5582",
         "nice application",
         "positive",
         "0.9998229146003724",
         "User Experience",
         "Dashen Bank",
         "5"
        ],
        [
         "5583",
         "5583",
         "good",
         "positive",
         "0.999816119670868",
         "User Experience",
         "Dashen Bank",
         "5"
        ],
        [
         "5584",
         "5584",
         "wow",
         "positive",
         "0.999592125415802",
         "General Feedback",
         "Dashen Bank",
         "5"
        ],
        [
         "5586",
         "5586",
         "game changer app dashen bank super app fast secure easy use click payment make send money super quick qr code payment perfect cashless shopping love biometric login easy airtime bill payment need place dashen bank raise bar digital banking ethiopia highly recommend",
         "positive",
         "0.999617338180542",
         "User Experience, Brand & Innovation, Technical Problems, Digital Banking",
         "Dashen Bank",
         "5"
        ],
        [
         "5587",
         "5587",
         "useful app",
         "positive",
         "0.9995785355567932",
         "General Feedback",
         "Dashen Bank",
         "1"
        ],
        [
         "5591",
         "5591",
         "nice",
         "positive",
         "0.9998563528060912",
         "General Feedback",
         "Dashen Bank",
         "5"
        ],
        [
         "5592",
         "5592",
         "good",
         "positive",
         "0.9998121857643129",
         "User Experience",
         "Dashen Bank",
         "5"
        ],
        [
         "5594",
         "5594",
         "good good arrive empower financial freedom experience seamless banking fingertip dashen bank empower financial freedom anytime innovation meet convenience dashen bank mobile banking innovation meet convenience secure reliable bank confidence",
         "positive",
         "0.9996517896652222",
         "User Experience, Brand & Innovation, Digital Banking",
         "Dashen Bank",
         "5"
        ],
        [
         "5595",
         "5595",
         "wow",
         "positive",
         "0.999592125415802",
         "General Feedback",
         "Dashen Bank",
         "5"
        ],
        [
         "5597",
         "5597",
         "good",
         "positive",
         "0.999816119670868",
         "User Experience",
         "Dashen Bank",
         "5"
        ],
        [
         "5598",
         "5598",
         "good",
         "positive",
         "0.9998121857643129",
         "User Experience",
         "Dashen Bank",
         "5"
        ],
        [
         "5599",
         "5599",
         "good app finance sector",
         "positive",
         "0.9998089671134948",
         "User Experience",
         "Dashen Bank",
         "5"
        ],
        [
         "5602",
         "5602",
         "wowwwe app",
         "positive",
         "0.9829692244529724",
         "General Feedback",
         "Dashen Bank",
         "5"
        ],
        [
         "5604",
         "5604",
         "good",
         "positive",
         "0.999816119670868",
         "User Experience",
         "Dashen Bank",
         "5"
        ],
        [
         "5606",
         "5606",
         "amazing application",
         "positive",
         "0.9998786449432372",
         "User Experience",
         "Dashen Bank",
         "5"
        ],
        [
         "5607",
         "5607",
         "fantastic",
         "positive",
         "0.9998743534088136",
         "General Feedback",
         "Dashen Bank",
         "5"
        ],
        [
         "5609",
         "5609",
         "choice",
         "positive",
         "0.9962010979652404",
         "General Feedback",
         "Dashen Bank",
         "5"
        ],
        [
         "5610",
         "5610",
         "wow apo",
         "positive",
         "0.99947851896286",
         "General Feedback",
         "Dashen Bank",
         "5"
        ],
        [
         "5611",
         "5611",
         "awesome app go",
         "positive",
         "0.9998502731323242",
         "General Feedback",
         "Dashen Bank",
         "5"
        ],
        [
         "5612",
         "5612",
         "wow",
         "positive",
         "0.999592125415802",
         "General Feedback",
         "Dashen Bank",
         "5"
        ],
        [
         "5613",
         "5613",
         "grow ethiopian digital banking step feture simple fast convince",
         "positive",
         "0.9992207288742064",
         "Digital Banking",
         "Dashen Bank",
         "5"
        ],
        [
         "5614",
         "5614",
         "game changer",
         "positive",
         "0.988757073879242",
         "Brand & Innovation, Technical Problems",
         "Dashen Bank",
         "5"
        ],
        [
         "5615",
         "5615",
         "totally amazing",
         "positive",
         "0.9998782873153688",
         "General Feedback",
         "Dashen Bank",
         "5"
        ],
        [
         "5616",
         "5616",
         "super",
         "positive",
         "0.9331682920455932",
         "General Feedback",
         "Dashen Bank",
         "5"
        ],
        [
         "5617",
         "5617",
         "helpful app",
         "positive",
         "0.9990901947021484",
         "Customer Service",
         "Dashen Bank",
         "5"
        ],
        [
         "5618",
         "5618",
         "good",
         "positive",
         "0.999816119670868",
         "User Experience",
         "Dashen Bank",
         "4"
        ],
        [
         "5619",
         "5619",
         "nice",
         "positive",
         "0.9998552799224854",
         "General Feedback",
         "Dashen Bank",
         "5"
        ],
        [
         "5620",
         "5620",
         "wow",
         "positive",
         "0.999592125415802",
         "General Feedback",
         "Dashen Bank",
         "5"
        ],
        [
         "5621",
         "5621",
         "honest good banking lifestyle app ethiopia",
         "positive",
         "0.9997262358665466",
         "User Experience",
         "Dashen Bank",
         "5"
        ],
        [
         "5622",
         "5622",
         "fast",
         "positive",
         "0.9989494681358336",
         "General Feedback",
         "Dashen Bank",
         "5"
        ],
        [
         "5623",
         "5623",
         "seamless digital platform db superapp live motto step ahead",
         "positive",
         "0.9966461062431335",
         "Brand & Innovation, Digital Banking",
         "Dashen Bank",
         "5"
        ],
        [
         "5624",
         "5624",
         "app make digital banking effortless convenient user friendly interface secure transaction excellent feature manage finance efficiently",
         "positive",
         "0.9991555213928224",
         "User Experience, Digital Banking",
         "Dashen Bank",
         "4"
        ],
        [
         "5625",
         "5625",
         "good",
         "positive",
         "0.999816119670868",
         "User Experience",
         "Dashen Bank",
         "5"
        ],
        [
         "5626",
         "5626",
         "amazing app super easy use good design love",
         "positive",
         "0.9998630285263062",
         "User Experience",
         "Dashen Bank",
         "5"
        ],
        [
         "5627",
         "5627",
         "good",
         "positive",
         "0.9998552799224854",
         "User Experience",
         "Dashen Bank",
         "5"
        ],
        [
         "5628",
         "5628",
         "nice",
         "positive",
         "0.9998552799224854",
         "General Feedback",
         "Dashen Bank",
         "5"
        ],
        [
         "5629",
         "5629",
         "excellent game changer app",
         "positive",
         "0.9998358488082886",
         "Brand & Innovation, Technical Problems",
         "Dashen Bank",
         "5"
        ],
        [
         "5630",
         "5630",
         "highly excited application favorable preferrable mobile app",
         "positive",
         "0.9995176792144777",
         "General Feedback",
         "Dashen Bank",
         "5"
        ],
        [
         "5633",
         "5633",
         "yes want dashen super open",
         "positive",
         "0.999435007572174",
         "Digital Banking",
         "Dashen Bank",
         "5"
        ],
        [
         "5634",
         "5634",
         "good app",
         "positive",
         "0.999686598777771",
         "User Experience",
         "Dashen Bank",
         "5"
        ]
       ],
       "shape": {
        "columns": 7,
        "rows": 356
       }
      },
      "text/html": [
       "<div>\n",
       "<style scoped>\n",
       "    .dataframe tbody tr th:only-of-type {\n",
       "        vertical-align: middle;\n",
       "    }\n",
       "\n",
       "    .dataframe tbody tr th {\n",
       "        vertical-align: top;\n",
       "    }\n",
       "\n",
       "    .dataframe thead th {\n",
       "        text-align: right;\n",
       "    }\n",
       "</style>\n",
       "<table border=\"1\" class=\"dataframe\">\n",
       "  <thead>\n",
       "    <tr style=\"text-align: right;\">\n",
       "      <th></th>\n",
       "      <th>review_id</th>\n",
       "      <th>review_text</th>\n",
       "      <th>sentiment_label</th>\n",
       "      <th>sentiment_score</th>\n",
       "      <th>identified_theme(s)</th>\n",
       "      <th>bank</th>\n",
       "      <th>rating</th>\n",
       "    </tr>\n",
       "  </thead>\n",
       "  <tbody>\n",
       "    <tr>\n",
       "      <th>5569</th>\n",
       "      <td>5569</td>\n",
       "      <td>wow</td>\n",
       "      <td>positive</td>\n",
       "      <td>0.999592</td>\n",
       "      <td>General Feedback</td>\n",
       "      <td>Dashen Bank</td>\n",
       "      <td>5</td>\n",
       "    </tr>\n",
       "    <tr>\n",
       "      <th>5571</th>\n",
       "      <td>5571</td>\n",
       "      <td>massive upgrade amole app</td>\n",
       "      <td>positive</td>\n",
       "      <td>0.964642</td>\n",
       "      <td>General Feedback</td>\n",
       "      <td>Dashen Bank</td>\n",
       "      <td>5</td>\n",
       "    </tr>\n",
       "    <tr>\n",
       "      <th>5572</th>\n",
       "      <td>5572</td>\n",
       "      <td>good</td>\n",
       "      <td>positive</td>\n",
       "      <td>0.999816</td>\n",
       "      <td>User Experience</td>\n",
       "      <td>Dashen Bank</td>\n",
       "      <td>4</td>\n",
       "    </tr>\n",
       "    <tr>\n",
       "      <th>5573</th>\n",
       "      <td>5573</td>\n",
       "      <td>good app</td>\n",
       "      <td>positive</td>\n",
       "      <td>0.999814</td>\n",
       "      <td>User Experience</td>\n",
       "      <td>Dashen Bank</td>\n",
       "      <td>5</td>\n",
       "    </tr>\n",
       "    <tr>\n",
       "      <th>5574</th>\n",
       "      <td>5574</td>\n",
       "      <td>NaN</td>\n",
       "      <td>positive</td>\n",
       "      <td>0.999707</td>\n",
       "      <td>General Feedback</td>\n",
       "      <td>Dashen Bank</td>\n",
       "      <td>5</td>\n",
       "    </tr>\n",
       "    <tr>\n",
       "      <th>...</th>\n",
       "      <td>...</td>\n",
       "      <td>...</td>\n",
       "      <td>...</td>\n",
       "      <td>...</td>\n",
       "      <td>...</td>\n",
       "      <td>...</td>\n",
       "      <td>...</td>\n",
       "    </tr>\n",
       "    <tr>\n",
       "      <th>6364</th>\n",
       "      <td>6364</td>\n",
       "      <td>amazing aplication pin pin pin time transcript...</td>\n",
       "      <td>positive</td>\n",
       "      <td>0.997386</td>\n",
       "      <td>General Feedback</td>\n",
       "      <td>Dashen Bank</td>\n",
       "      <td>4</td>\n",
       "    </tr>\n",
       "    <tr>\n",
       "      <th>6365</th>\n",
       "      <td>6365</td>\n",
       "      <td>step raise</td>\n",
       "      <td>positive</td>\n",
       "      <td>0.991869</td>\n",
       "      <td>General Feedback</td>\n",
       "      <td>Dashen Bank</td>\n",
       "      <td>5</td>\n",
       "    </tr>\n",
       "    <tr>\n",
       "      <th>6367</th>\n",
       "      <td>6367</td>\n",
       "      <td>v good</td>\n",
       "      <td>positive</td>\n",
       "      <td>0.999386</td>\n",
       "      <td>User Experience</td>\n",
       "      <td>Dashen Bank</td>\n",
       "      <td>5</td>\n",
       "    </tr>\n",
       "    <tr>\n",
       "      <th>6368</th>\n",
       "      <td>6368</td>\n",
       "      <td>good</td>\n",
       "      <td>positive</td>\n",
       "      <td>0.999836</td>\n",
       "      <td>User Experience</td>\n",
       "      <td>Dashen Bank</td>\n",
       "      <td>5</td>\n",
       "    </tr>\n",
       "    <tr>\n",
       "      <th>6370</th>\n",
       "      <td>6370</td>\n",
       "      <td>atm east africa</td>\n",
       "      <td>positive</td>\n",
       "      <td>0.987470</td>\n",
       "      <td>General Feedback</td>\n",
       "      <td>Dashen Bank</td>\n",
       "      <td>5</td>\n",
       "    </tr>\n",
       "  </tbody>\n",
       "</table>\n",
       "<p>356 rows × 7 columns</p>\n",
       "</div>"
      ],
      "text/plain": [
       "      review_id                                        review_text  \\\n",
       "5569       5569                                                wow   \n",
       "5571       5571                          massive upgrade amole app   \n",
       "5572       5572                                               good   \n",
       "5573       5573                                           good app   \n",
       "5574       5574                                                NaN   \n",
       "...         ...                                                ...   \n",
       "6364       6364  amazing aplication pin pin pin time transcript...   \n",
       "6365       6365                                         step raise   \n",
       "6367       6367                                             v good   \n",
       "6368       6368                                               good   \n",
       "6370       6370                                    atm east africa   \n",
       "\n",
       "     sentiment_label  sentiment_score identified_theme(s)         bank  rating  \n",
       "5569        positive         0.999592    General Feedback  Dashen Bank       5  \n",
       "5571        positive         0.964642    General Feedback  Dashen Bank       5  \n",
       "5572        positive         0.999816     User Experience  Dashen Bank       4  \n",
       "5573        positive         0.999814     User Experience  Dashen Bank       5  \n",
       "5574        positive         0.999707    General Feedback  Dashen Bank       5  \n",
       "...              ...              ...                 ...          ...     ...  \n",
       "6364        positive         0.997386    General Feedback  Dashen Bank       4  \n",
       "6365        positive         0.991869    General Feedback  Dashen Bank       5  \n",
       "6367        positive         0.999386     User Experience  Dashen Bank       5  \n",
       "6368        positive         0.999836     User Experience  Dashen Bank       5  \n",
       "6370        positive         0.987470    General Feedback  Dashen Bank       5  \n",
       "\n",
       "[356 rows x 7 columns]"
      ]
     },
     "execution_count": 7,
     "metadata": {},
     "output_type": "execute_result"
    }
   ],
   "source": [
    "dsn_pos= df[(df[\"bank\"] == \"Dashen Bank\") & (df[\"sentiment_label\"] == \"positive\")]\n",
    "dsn_pos"
   ]
  },
  {
   "cell_type": "markdown",
   "id": "d9954551",
   "metadata": {},
   "source": [
    "2.1.1 Pain Points -  Dashen Bank"
   ]
  },
  {
   "cell_type": "code",
   "execution_count": 8,
   "id": "e046263d",
   "metadata": {},
   "outputs": [
    {
     "data": {
      "application/vnd.microsoft.datawrangler.viewer.v0+json": {
       "columns": [
        {
         "name": "index",
         "rawType": "int64",
         "type": "integer"
        },
        {
         "name": "review_id",
         "rawType": "int64",
         "type": "integer"
        },
        {
         "name": "review_text",
         "rawType": "object",
         "type": "unknown"
        },
        {
         "name": "sentiment_label",
         "rawType": "object",
         "type": "string"
        },
        {
         "name": "sentiment_score",
         "rawType": "float64",
         "type": "float"
        },
        {
         "name": "identified_theme(s)",
         "rawType": "object",
         "type": "string"
        },
        {
         "name": "bank",
         "rawType": "object",
         "type": "string"
        },
        {
         "name": "rating",
         "rawType": "int64",
         "type": "integer"
        }
       ],
       "ref": "8cab789d-e004-4a21-a8e4-f77bb55d7a37",
       "rows": [
        [
         "5570",
         "5570",
         "gadaa",
         "negative",
         "-0.7211456894874573",
         "General Feedback",
         "Dashen Bank",
         "5"
        ],
        [
         "5575",
         "5575",
         "app well amole biometric new update work",
         "negative",
         "-0.999607503414154",
         "General Feedback",
         "Dashen Bank",
         "4"
        ],
        [
         "5579",
         "5579",
         "slow",
         "negative",
         "-0.9996801614761353",
         "Technical Problems",
         "Dashen Bank",
         "3"
        ],
        [
         "5585",
         "5585",
         "useless app load long",
         "negative",
         "-0.9997350573539734",
         "General Feedback",
         "Dashen Bank",
         "1"
        ],
        [
         "5588",
         "5588",
         "simple robust feature yes endless loading screen kill fun use day fix glitch yeet high rating",
         "negative",
         "-0.8351491689682007",
         "Brand & Innovation",
         "Dashen Bank",
         "2"
        ],
        [
         "5589",
         "5589",
         "wawww",
         "negative",
         "-0.9418039321899414",
         "General Feedback",
         "Dashen Bank",
         "5"
        ],
        [
         "5590",
         "5590",
         "good time say duplicate transaction",
         "negative",
         "-0.9836630821228028",
         "User Experience",
         "Dashen Bank",
         "5"
        ],
        [
         "5593",
         "5593",
         "good mobile bank app",
         "negative",
         "-0.999786913394928",
         "User Experience, Digital Banking",
         "Dashen Bank",
         "1"
        ],
        [
         "5596",
         "5596",
         "change update version collect comment feed improve version superapp mot function today",
         "negative",
         "-0.9939862489700316",
         "Technical Problems, Digital Banking",
         "Dashen Bank",
         "4"
        ],
        [
         "5600",
         "5600",
         "good app compitator confuse transfer need otp pin user inter pin instead otp know litrecy level society device base not know need otp try fix",
         "negative",
         "-0.9983357787132264",
         "User Experience, Digital Banking",
         "Dashen Bank",
         "3"
        ],
        [
         "5601",
         "5601",
         "dashen bank dashen super app",
         "negative",
         "-0.9937525391578674",
         "Brand & Innovation, Digital Banking",
         "Dashen Bank",
         "1"
        ],
        [
         "5603",
         "5603",
         "transfer bank account hastle inconvenient see try",
         "negative",
         "-0.9994332194328308",
         "Digital Banking",
         "Dashen Bank",
         "2"
        ],
        [
         "5605",
         "5605",
         "lag",
         "negative",
         "-0.9998013377189636",
         "General Feedback",
         "Dashen Bank",
         "1"
        ],
        [
         "5608",
         "5608",
         "dashen bank app good work",
         "negative",
         "-0.9976341724395752",
         "User Experience, Brand & Innovation, Digital Banking",
         "Dashen Bank",
         "5"
        ],
        [
         "5631",
         "5631",
         "log minute",
         "negative",
         "-0.9982207417488098",
         "General Feedback",
         "Dashen Bank",
         "1"
        ],
        [
         "5632",
         "5632",
         "nice app especially gui get error send dashen bank receipter sms notification",
         "negative",
         "-0.985798954963684",
         "User Experience, Brand & Innovation, Technical Problems",
         "Dashen Bank",
         "4"
        ],
        [
         "5639",
         "5639",
         "bad",
         "negative",
         "-0.9997698664665222",
         "General Feedback",
         "Dashen Bank",
         "1"
        ],
        [
         "5645",
         "5645",
         "waw",
         "negative",
         "-0.7346174120903015",
         "General Feedback",
         "Dashen Bank",
         "5"
        ],
        [
         "5647",
         "5647",
         "slow try recent transaction stucke",
         "negative",
         "-0.9992387294769288",
         "Technical Problems",
         "Dashen Bank",
         "1"
        ],
        [
         "5650",
         "5650",
         "change pin number use finger print dummy",
         "negative",
         "-0.9994646906852722",
         "Technical Problems",
         "Dashen Bank",
         "1"
        ],
        [
         "5654",
         "5654",
         "slow lack feature super app high rating give employee customer",
         "negative",
         "-0.9997708201408386",
         "Technical Problems, Digital Banking",
         "Dashen Bank",
         "1"
        ],
        [
         "5657",
         "5657",
         "incomparably user friendly fast app mobile banking",
         "negative",
         "-0.9392756819725036",
         "User Experience, Digital Banking",
         "Dashen Bank",
         "5"
        ],
        [
         "5658",
         "5658",
         "super app repeatedly fail transaction waste customer valuable time system upgrade time traffic demand technical difficulty reflect customer",
         "negative",
         "-0.9993688464164734",
         "Digital Banking",
         "Dashen Bank",
         "2"
        ],
        [
         "5659",
         "5659",
         "execellent",
         "negative",
         "-0.9866806864738464",
         "General Feedback",
         "Dashen Bank",
         "5"
        ],
        [
         "5661",
         "5661",
         "digital banking game changer",
         "negative",
         "-0.7598538994789124",
         "Brand & Innovation, Technical Problems, Digital Banking",
         "Dashen Bank",
         "5"
        ],
        [
         "5681",
         "5681",
         "betam mirt ena betam le atikakem kelel yale ena michu application nw",
         "negative",
         "-0.9886249303817748",
         "General Feedback",
         "Dashen Bank",
         "5"
        ],
        [
         "5724",
         "5724",
         "chat banking unique app alow money request",
         "negative",
         "-0.9822685718536376",
         "General Feedback",
         "Dashen Bank",
         "5"
        ],
        [
         "5737",
         "5737",
         "hestorical app bank industry",
         "negative",
         "-0.9915915727615356",
         "General Feedback",
         "Dashen Bank",
         "5"
        ],
        [
         "5752",
         "5752",
         "good actually work developer option",
         "negative",
         "-0.9746389389038086",
         "User Experience",
         "Dashen Bank",
         "5"
        ],
        [
         "5759",
         "5759",
         "dashen supper app mobile banking app overall appreciate notice turn developer option device app stop function properly great look issue need access developer setting application thank attention matter",
         "negative",
         "-0.9068740606307985",
         "Technical Problems, Digital Banking",
         "Dashen Bank",
         "5"
        ],
        [
         "5760",
         "5760",
         "easiness use fast response time",
         "negative",
         "-0.964725911617279",
         "Customer Service",
         "Dashen Bank",
         "5"
        ],
        [
         "5779",
         "5779",
         "expect service dashen bank like slogan",
         "negative",
         "-0.883536159992218",
         "Brand & Innovation",
         "Dashen Bank",
         "5"
        ],
        [
         "5794",
         "5794",
         "working hulum information asgebiche continue accept yemilew button ayeseram phone samsung",
         "negative",
         "-0.9980541467666626",
         "General Feedback",
         "Dashen Bank",
         "1"
        ],
        [
         "5796",
         "5796",
         "waw idea good app",
         "negative",
         "-0.9923464059829712",
         "User Experience",
         "Dashen Bank",
         "5"
        ],
        [
         "5801",
         "5801",
         "disappointing app close frequently unstable function",
         "negative",
         "-0.9997677206993104",
         "General Feedback",
         "Dashen Bank",
         "2"
        ],
        [
         "5802",
         "5802",
         "feature rich absolutely speed painfully slow seriously communicate server mar",
         "negative",
         "-0.9992289543151855",
         "Technical Problems",
         "Dashen Bank",
         "5"
        ],
        [
         "5807",
         "5807",
         "app backward work work hour hour great",
         "negative",
         "-0.9958034157752992",
         "General Feedback",
         "Dashen Bank",
         "1"
        ],
        [
         "5808",
         "5808",
         "bad connection day work",
         "negative",
         "-0.9996840953826904",
         "General Feedback",
         "Dashen Bank",
         "1"
        ],
        [
         "5810",
         "5810",
         "app work properly",
         "negative",
         "-0.999715268611908",
         "General Feedback",
         "Dashen Bank",
         "1"
        ],
        [
         "5812",
         "5812",
         "disappointing experience dashen bank super service app slow take forever load transaction incredibly frustrating additionally generate receipt transaction make difficult track expense reach customer support response time long expect overall hope well experience find service lacking need improvement",
         "negative",
         "-0.9996039271354676",
         "Customer Service, Brand & Innovation, Technical Problems, Digital Banking",
         "Dashen Bank",
         "2"
        ],
        [
         "5813",
         "5813",
         "slow cumbersome",
         "negative",
         "-0.9997989535331726",
         "Technical Problems",
         "Dashen Bank",
         "3"
        ],
        [
         "5815",
         "5815",
         "slow send otp reliable crush time need improvement way",
         "negative",
         "-0.9997294545173644",
         "Technical Problems",
         "Dashen Bank",
         "1"
        ],
        [
         "5816",
         "5816",
         "bad mobile banking experience work need randomly update warn transaction want nightmare rely main banking option especially lot money account lucky infuriate able access money need",
         "negative",
         "-0.9996976852416992",
         "Digital Banking",
         "Dashen Bank",
         "1"
        ],
        [
         "5817",
         "5817",
         "experience app bank ethiopia dashen sup like old version application give star low speed login processing",
         "negative",
         "-0.9981010556221008",
         "Technical Problems, Digital Banking",
         "Dashen Bank",
         "3"
        ],
        [
         "5822",
         "5822",
         "app work turn developer mode phone take right use",
         "negative",
         "-0.9994447827339172",
         "General Feedback",
         "Dashen Bank",
         "2"
        ],
        [
         "5824",
         "5824",
         "disappointing fix soon possible expect dashin bank fix",
         "negative",
         "-0.99936181306839",
         "Brand & Innovation",
         "Dashen Bank",
         "1"
        ],
        [
         "5825",
         "5825",
         "dashen bank worker hide atm card big problem",
         "negative",
         "-0.999297022819519",
         "Brand & Innovation, Technical Problems",
         "Dashen Bank",
         "5"
        ],
        [
         "5827",
         "5827",
         "tanku",
         "negative",
         "-0.91596519947052",
         "General Feedback",
         "Dashen Bank",
         "5"
        ],
        [
         "5830",
         "5830",
         "goood",
         "negative",
         "-0.9943867921829224",
         "User Experience",
         "Dashen Bank",
         "5"
        ],
        [
         "5831",
         "5831",
         "ask pin opt opt touch let",
         "negative",
         "-0.9958769083023072",
         "General Feedback",
         "Dashen Bank",
         "2"
        ]
       ],
       "shape": {
        "columns": 7,
        "rows": 91
       }
      },
      "text/html": [
       "<div>\n",
       "<style scoped>\n",
       "    .dataframe tbody tr th:only-of-type {\n",
       "        vertical-align: middle;\n",
       "    }\n",
       "\n",
       "    .dataframe tbody tr th {\n",
       "        vertical-align: top;\n",
       "    }\n",
       "\n",
       "    .dataframe thead th {\n",
       "        text-align: right;\n",
       "    }\n",
       "</style>\n",
       "<table border=\"1\" class=\"dataframe\">\n",
       "  <thead>\n",
       "    <tr style=\"text-align: right;\">\n",
       "      <th></th>\n",
       "      <th>review_id</th>\n",
       "      <th>review_text</th>\n",
       "      <th>sentiment_label</th>\n",
       "      <th>sentiment_score</th>\n",
       "      <th>identified_theme(s)</th>\n",
       "      <th>bank</th>\n",
       "      <th>rating</th>\n",
       "    </tr>\n",
       "  </thead>\n",
       "  <tbody>\n",
       "    <tr>\n",
       "      <th>5570</th>\n",
       "      <td>5570</td>\n",
       "      <td>gadaa</td>\n",
       "      <td>negative</td>\n",
       "      <td>-0.721146</td>\n",
       "      <td>General Feedback</td>\n",
       "      <td>Dashen Bank</td>\n",
       "      <td>5</td>\n",
       "    </tr>\n",
       "    <tr>\n",
       "      <th>5575</th>\n",
       "      <td>5575</td>\n",
       "      <td>app well amole biometric new update work</td>\n",
       "      <td>negative</td>\n",
       "      <td>-0.999608</td>\n",
       "      <td>General Feedback</td>\n",
       "      <td>Dashen Bank</td>\n",
       "      <td>4</td>\n",
       "    </tr>\n",
       "    <tr>\n",
       "      <th>5579</th>\n",
       "      <td>5579</td>\n",
       "      <td>slow</td>\n",
       "      <td>negative</td>\n",
       "      <td>-0.999680</td>\n",
       "      <td>Technical Problems</td>\n",
       "      <td>Dashen Bank</td>\n",
       "      <td>3</td>\n",
       "    </tr>\n",
       "    <tr>\n",
       "      <th>5585</th>\n",
       "      <td>5585</td>\n",
       "      <td>useless app load long</td>\n",
       "      <td>negative</td>\n",
       "      <td>-0.999735</td>\n",
       "      <td>General Feedback</td>\n",
       "      <td>Dashen Bank</td>\n",
       "      <td>1</td>\n",
       "    </tr>\n",
       "    <tr>\n",
       "      <th>5588</th>\n",
       "      <td>5588</td>\n",
       "      <td>simple robust feature yes endless loading scre...</td>\n",
       "      <td>negative</td>\n",
       "      <td>-0.835149</td>\n",
       "      <td>Brand &amp; Innovation</td>\n",
       "      <td>Dashen Bank</td>\n",
       "      <td>2</td>\n",
       "    </tr>\n",
       "    <tr>\n",
       "      <th>...</th>\n",
       "      <td>...</td>\n",
       "      <td>...</td>\n",
       "      <td>...</td>\n",
       "      <td>...</td>\n",
       "      <td>...</td>\n",
       "      <td>...</td>\n",
       "      <td>...</td>\n",
       "    </tr>\n",
       "    <tr>\n",
       "      <th>5978</th>\n",
       "      <td>5978</td>\n",
       "      <td>truly db alwaysonestepahead</td>\n",
       "      <td>negative</td>\n",
       "      <td>-0.998905</td>\n",
       "      <td>General Feedback</td>\n",
       "      <td>Dashen Bank</td>\n",
       "      <td>5</td>\n",
       "    </tr>\n",
       "    <tr>\n",
       "      <th>6357</th>\n",
       "      <td>6357</td>\n",
       "      <td>scrolling ap burtle use use</td>\n",
       "      <td>negative</td>\n",
       "      <td>-0.992425</td>\n",
       "      <td>General Feedback</td>\n",
       "      <td>Dashen Bank</td>\n",
       "      <td>5</td>\n",
       "    </tr>\n",
       "    <tr>\n",
       "      <th>6360</th>\n",
       "      <td>6360</td>\n",
       "      <td>applesser cool teleber old</td>\n",
       "      <td>negative</td>\n",
       "      <td>-0.998795</td>\n",
       "      <td>General Feedback</td>\n",
       "      <td>Dashen Bank</td>\n",
       "      <td>4</td>\n",
       "    </tr>\n",
       "    <tr>\n",
       "      <th>6366</th>\n",
       "      <td>6366</td>\n",
       "      <td>second oher bank work intersection addisintely...</td>\n",
       "      <td>negative</td>\n",
       "      <td>-0.999644</td>\n",
       "      <td>General Feedback</td>\n",
       "      <td>Dashen Bank</td>\n",
       "      <td>2</td>\n",
       "    </tr>\n",
       "    <tr>\n",
       "      <th>6369</th>\n",
       "      <td>6369</td>\n",
       "      <td>NaN</td>\n",
       "      <td>negative</td>\n",
       "      <td>-0.959507</td>\n",
       "      <td>General Feedback</td>\n",
       "      <td>Dashen Bank</td>\n",
       "      <td>2</td>\n",
       "    </tr>\n",
       "  </tbody>\n",
       "</table>\n",
       "<p>91 rows × 7 columns</p>\n",
       "</div>"
      ],
      "text/plain": [
       "      review_id                                        review_text  \\\n",
       "5570       5570                                              gadaa   \n",
       "5575       5575           app well amole biometric new update work   \n",
       "5579       5579                                               slow   \n",
       "5585       5585                              useless app load long   \n",
       "5588       5588  simple robust feature yes endless loading scre...   \n",
       "...         ...                                                ...   \n",
       "5978       5978                        truly db alwaysonestepahead   \n",
       "6357       6357                        scrolling ap burtle use use   \n",
       "6360       6360                         applesser cool teleber old   \n",
       "6366       6366  second oher bank work intersection addisintely...   \n",
       "6369       6369                                                NaN   \n",
       "\n",
       "     sentiment_label  sentiment_score identified_theme(s)         bank  rating  \n",
       "5570        negative        -0.721146    General Feedback  Dashen Bank       5  \n",
       "5575        negative        -0.999608    General Feedback  Dashen Bank       4  \n",
       "5579        negative        -0.999680  Technical Problems  Dashen Bank       3  \n",
       "5585        negative        -0.999735    General Feedback  Dashen Bank       1  \n",
       "5588        negative        -0.835149  Brand & Innovation  Dashen Bank       2  \n",
       "...              ...              ...                 ...          ...     ...  \n",
       "5978        negative        -0.998905    General Feedback  Dashen Bank       5  \n",
       "6357        negative        -0.992425    General Feedback  Dashen Bank       5  \n",
       "6360        negative        -0.998795    General Feedback  Dashen Bank       4  \n",
       "6366        negative        -0.999644    General Feedback  Dashen Bank       2  \n",
       "6369        negative        -0.959507    General Feedback  Dashen Bank       2  \n",
       "\n",
       "[91 rows x 7 columns]"
      ]
     },
     "execution_count": 8,
     "metadata": {},
     "output_type": "execute_result"
    }
   ],
   "source": [
    "dsn_neg= df[(df[\"bank\"] == \"Dashen Bank\") & (df[\"sentiment_label\"] == \"negative\")]\n",
    "dsn_neg"
   ]
  },
  {
   "cell_type": "markdown",
   "id": "881528e6",
   "metadata": {},
   "source": [
    "2.2 Drivers Bank Wise - Commercial Bank of Ethiopia"
   ]
  },
  {
   "cell_type": "code",
   "execution_count": 9,
   "id": "d680caf7",
   "metadata": {},
   "outputs": [
    {
     "data": {
      "application/vnd.microsoft.datawrangler.viewer.v0+json": {
       "columns": [
        {
         "name": "index",
         "rawType": "int64",
         "type": "integer"
        },
        {
         "name": "review_id",
         "rawType": "int64",
         "type": "integer"
        },
        {
         "name": "review_text",
         "rawType": "object",
         "type": "unknown"
        },
        {
         "name": "sentiment_label",
         "rawType": "object",
         "type": "string"
        },
        {
         "name": "sentiment_score",
         "rawType": "float64",
         "type": "float"
        },
        {
         "name": "identified_theme(s)",
         "rawType": "object",
         "type": "string"
        },
        {
         "name": "bank",
         "rawType": "object",
         "type": "string"
        },
        {
         "name": "rating",
         "rawType": "int64",
         "type": "integer"
        }
       ],
       "ref": "3d86d939-b501-4ed9-9e19-a01107780e47",
       "rows": [
        [
         "1",
         "1",
         "good",
         "positive",
         "0.999816119670868",
         "User Experience & Design",
         "Commercial Bank of Ethiopia",
         "4"
        ],
        [
         "4",
         "4",
         "well",
         "positive",
         "0.9997941851615906",
         "General Feedback",
         "Commercial Bank of Ethiopia",
         "5"
        ],
        [
         "5",
         "5",
         "bezabih",
         "positive",
         "0.9654072523117064",
         "General Feedback",
         "Commercial Bank of Ethiopia",
         "5"
        ],
        [
         "6",
         "6",
         "good mobile banking app",
         "positive",
         "0.9997294545173644",
         "User Experience & Design, Functionality & Features",
         "Commercial Bank of Ethiopia",
         "5"
        ],
        [
         "7",
         "7",
         "good",
         "positive",
         "0.999816119670868",
         "User Experience & Design",
         "Commercial Bank of Ethiopia",
         "5"
        ],
        [
         "10",
         "10",
         "good",
         "positive",
         "0.999816119670868",
         "User Experience & Design",
         "Commercial Bank of Ethiopia",
         "5"
        ],
        [
         "11",
         "11",
         "niec",
         "positive",
         "0.5192599296569824",
         "General Feedback",
         "Commercial Bank of Ethiopia",
         "5"
        ],
        [
         "12",
         "12",
         "good app finance",
         "positive",
         "0.9996503591537476",
         "User Experience & Design",
         "Commercial Bank of Ethiopia",
         "5"
        ],
        [
         "13",
         "13",
         "yetemeta",
         "positive",
         "0.6553667783737183",
         "General Feedback",
         "Commercial Bank of Ethiopia",
         "1"
        ],
        [
         "15",
         "15",
         "good",
         "positive",
         "0.999816119670868",
         "User Experience & Design",
         "Commercial Bank of Ethiopia",
         "5"
        ],
        [
         "17",
         "17",
         "nice bank",
         "positive",
         "0.999805510044098",
         "General Feedback",
         "Commercial Bank of Ethiopia",
         "5"
        ],
        [
         "19",
         "19",
         "problem solver application ahead cbe love",
         "positive",
         "0.9997678399086",
         "Technical Issues, Functionality & Features",
         "Commercial Bank of Ethiopia",
         "5"
        ],
        [
         "20",
         "20",
         "good try facilitate client",
         "positive",
         "0.9491770267486572",
         "User Experience & Design",
         "Commercial Bank of Ethiopia",
         "4"
        ],
        [
         "21",
         "21",
         "good app",
         "positive",
         "0.999686598777771",
         "User Experience & Design",
         "Commercial Bank of Ethiopia",
         "5"
        ],
        [
         "22",
         "22",
         "awesome bank",
         "positive",
         "0.99984610080719",
         "General Feedback",
         "Commercial Bank of Ethiopia",
         "5"
        ],
        [
         "26",
         "26",
         "well service",
         "positive",
         "0.9982219338417052",
         "General Feedback",
         "Commercial Bank of Ethiopia",
         "5"
        ],
        [
         "27",
         "27",
         "s good app time manager",
         "positive",
         "0.999837040901184",
         "User Experience & Design",
         "Commercial Bank of Ethiopia",
         "5"
        ],
        [
         "30",
         "30",
         "nice",
         "positive",
         "0.999863862991333",
         "General Feedback",
         "Commercial Bank of Ethiopia",
         "5"
        ],
        [
         "31",
         "31",
         "cbe",
         "positive",
         "0.9996104836463928",
         "General Feedback",
         "Commercial Bank of Ethiopia",
         "5"
        ],
        [
         "32",
         "32",
         "yes good",
         "positive",
         "0.9998410940170288",
         "User Experience & Design",
         "Commercial Bank of Ethiopia",
         "5"
        ],
        [
         "34",
         "34",
         "like app",
         "positive",
         "0.9996908903121948",
         "User Experience & Design",
         "Commercial Bank of Ethiopia",
         "5"
        ],
        [
         "35",
         "35",
         "good",
         "positive",
         "0.999816119670868",
         "User Experience & Design",
         "Commercial Bank of Ethiopia",
         "5"
        ],
        [
         "36",
         "36",
         "well",
         "positive",
         "0.9997941851615906",
         "General Feedback",
         "Commercial Bank of Ethiopia",
         "5"
        ],
        [
         "37",
         "37",
         "cbe good financial application dimple use like thank developer application appreciate app",
         "positive",
         "0.9982792139053344",
         "User Experience & Design, Functionality & Features",
         "Commercial Bank of Ethiopia",
         "5"
        ],
        [
         "38",
         "38",
         "nice",
         "positive",
         "0.9998552799224854",
         "General Feedback",
         "Commercial Bank of Ethiopia",
         "5"
        ],
        [
         "39",
         "39",
         "good job",
         "positive",
         "0.999835729598999",
         "User Experience & Design",
         "Commercial Bank of Ethiopia",
         "5"
        ],
        [
         "40",
         "40",
         "good",
         "positive",
         "0.999816119670868",
         "User Experience & Design",
         "Commercial Bank of Ethiopia",
         "5"
        ],
        [
         "41",
         "41",
         "awesome",
         "positive",
         "0.999871015548706",
         "General Feedback",
         "Commercial Bank of Ethiopia",
         "5"
        ],
        [
         "42",
         "42",
         "well",
         "positive",
         "0.9997941851615906",
         "General Feedback",
         "Commercial Bank of Ethiopia",
         "5"
        ],
        [
         "43",
         "43",
         "thankyou",
         "positive",
         "0.99984610080719",
         "General Feedback",
         "Commercial Bank of Ethiopia",
         "5"
        ],
        [
         "44",
         "44",
         "good app",
         "positive",
         "0.999686598777771",
         "User Experience & Design",
         "Commercial Bank of Ethiopia",
         "5"
        ],
        [
         "45",
         "45",
         "app absolutely fantastic love enjoy let support foundation",
         "positive",
         "0.9998852014541626",
         "Customer Support",
         "Commercial Bank of Ethiopia",
         "5"
        ],
        [
         "49",
         "49",
         "amazing app app year",
         "positive",
         "0.9991408586502076",
         "User Experience & Design",
         "Commercial Bank of Ethiopia",
         "4"
        ],
        [
         "50",
         "50",
         "good app",
         "positive",
         "0.9998493194580078",
         "User Experience & Design",
         "Commercial Bank of Ethiopia",
         "5"
        ],
        [
         "51",
         "51",
         "love",
         "positive",
         "0.9998791217803956",
         "General Feedback",
         "Commercial Bank of Ethiopia",
         "5"
        ],
        [
         "52",
         "52",
         "make life easy",
         "positive",
         "0.9993600249290466",
         "General Feedback",
         "Commercial Bank of Ethiopia",
         "5"
        ],
        [
         "54",
         "54",
         "wow",
         "positive",
         "0.999592125415802",
         "General Feedback",
         "Commercial Bank of Ethiopia",
         "4"
        ],
        [
         "55",
         "55",
         "sooo good",
         "positive",
         "0.9998735189437866",
         "User Experience & Design",
         "Commercial Bank of Ethiopia",
         "5"
        ],
        [
         "56",
         "56",
         "excellent",
         "positive",
         "0.9998434782028198",
         "User Experience & Design",
         "Commercial Bank of Ethiopia",
         "5"
        ],
        [
         "57",
         "57",
         "ok",
         "positive",
         "0.9997851252555848",
         "General Feedback",
         "Commercial Bank of Ethiopia",
         "1"
        ],
        [
         "58",
         "58",
         "fantastic",
         "positive",
         "0.9998743534088136",
         "General Feedback",
         "Commercial Bank of Ethiopia",
         "5"
        ],
        [
         "59",
         "59",
         "accessible",
         "positive",
         "0.999116837978363",
         "Account Access",
         "Commercial Bank of Ethiopia",
         "5"
        ],
        [
         "60",
         "60",
         "like",
         "positive",
         "0.99985933303833",
         "General Feedback",
         "Commercial Bank of Ethiopia",
         "4"
        ],
        [
         "61",
         "61",
         "good",
         "positive",
         "0.999816119670868",
         "User Experience & Design",
         "Commercial Bank of Ethiopia",
         "5"
        ],
        [
         "63",
         "63",
         "nice",
         "positive",
         "0.999857783317566",
         "General Feedback",
         "Commercial Bank of Ethiopia",
         "5"
        ],
        [
         "64",
         "64",
         "nice fast app",
         "positive",
         "0.999833345413208",
         "General Feedback",
         "Commercial Bank of Ethiopia",
         "5"
        ],
        [
         "65",
         "65",
         "well",
         "positive",
         "0.9997941851615906",
         "General Feedback",
         "Commercial Bank of Ethiopia",
         "5"
        ],
        [
         "68",
         "68",
         "good app reliable crash",
         "positive",
         "0.964985489845276",
         "User Experience & Design, Technical Issues",
         "Commercial Bank of Ethiopia",
         "4"
        ],
        [
         "72",
         "72",
         "hojii bonsaadha",
         "positive",
         "0.9568662047386168",
         "General Feedback",
         "Commercial Bank of Ethiopia",
         "5"
        ],
        [
         "73",
         "73",
         "ok",
         "positive",
         "0.9997851252555848",
         "General Feedback",
         "Commercial Bank of Ethiopia",
         "5"
        ]
       ],
       "shape": {
        "columns": 7,
        "rows": 3430
       }
      },
      "text/html": [
       "<div>\n",
       "<style scoped>\n",
       "    .dataframe tbody tr th:only-of-type {\n",
       "        vertical-align: middle;\n",
       "    }\n",
       "\n",
       "    .dataframe tbody tr th {\n",
       "        vertical-align: top;\n",
       "    }\n",
       "\n",
       "    .dataframe thead th {\n",
       "        text-align: right;\n",
       "    }\n",
       "</style>\n",
       "<table border=\"1\" class=\"dataframe\">\n",
       "  <thead>\n",
       "    <tr style=\"text-align: right;\">\n",
       "      <th></th>\n",
       "      <th>review_id</th>\n",
       "      <th>review_text</th>\n",
       "      <th>sentiment_label</th>\n",
       "      <th>sentiment_score</th>\n",
       "      <th>identified_theme(s)</th>\n",
       "      <th>bank</th>\n",
       "      <th>rating</th>\n",
       "    </tr>\n",
       "  </thead>\n",
       "  <tbody>\n",
       "    <tr>\n",
       "      <th>1</th>\n",
       "      <td>1</td>\n",
       "      <td>good</td>\n",
       "      <td>positive</td>\n",
       "      <td>0.999816</td>\n",
       "      <td>User Experience &amp; Design</td>\n",
       "      <td>Commercial Bank of Ethiopia</td>\n",
       "      <td>4</td>\n",
       "    </tr>\n",
       "    <tr>\n",
       "      <th>4</th>\n",
       "      <td>4</td>\n",
       "      <td>well</td>\n",
       "      <td>positive</td>\n",
       "      <td>0.999794</td>\n",
       "      <td>General Feedback</td>\n",
       "      <td>Commercial Bank of Ethiopia</td>\n",
       "      <td>5</td>\n",
       "    </tr>\n",
       "    <tr>\n",
       "      <th>5</th>\n",
       "      <td>5</td>\n",
       "      <td>bezabih</td>\n",
       "      <td>positive</td>\n",
       "      <td>0.965407</td>\n",
       "      <td>General Feedback</td>\n",
       "      <td>Commercial Bank of Ethiopia</td>\n",
       "      <td>5</td>\n",
       "    </tr>\n",
       "    <tr>\n",
       "      <th>6</th>\n",
       "      <td>6</td>\n",
       "      <td>good mobile banking app</td>\n",
       "      <td>positive</td>\n",
       "      <td>0.999729</td>\n",
       "      <td>User Experience &amp; Design, Functionality &amp; Feat...</td>\n",
       "      <td>Commercial Bank of Ethiopia</td>\n",
       "      <td>5</td>\n",
       "    </tr>\n",
       "    <tr>\n",
       "      <th>7</th>\n",
       "      <td>7</td>\n",
       "      <td>good</td>\n",
       "      <td>positive</td>\n",
       "      <td>0.999816</td>\n",
       "      <td>User Experience &amp; Design</td>\n",
       "      <td>Commercial Bank of Ethiopia</td>\n",
       "      <td>5</td>\n",
       "    </tr>\n",
       "    <tr>\n",
       "      <th>...</th>\n",
       "      <td>...</td>\n",
       "      <td>...</td>\n",
       "      <td>...</td>\n",
       "      <td>...</td>\n",
       "      <td>...</td>\n",
       "      <td>...</td>\n",
       "      <td>...</td>\n",
       "    </tr>\n",
       "    <tr>\n",
       "      <th>6285</th>\n",
       "      <td>6285</td>\n",
       "      <td>commercial bank mobile banking mobile banking ...</td>\n",
       "      <td>positive</td>\n",
       "      <td>0.999623</td>\n",
       "      <td>Functionality &amp; Features</td>\n",
       "      <td>Commercial Bank of Ethiopia</td>\n",
       "      <td>5</td>\n",
       "    </tr>\n",
       "    <tr>\n",
       "      <th>6286</th>\n",
       "      <td>6286</td>\n",
       "      <td>good application truly cool apple</td>\n",
       "      <td>positive</td>\n",
       "      <td>0.999874</td>\n",
       "      <td>User Experience &amp; Design, Functionality &amp; Feat...</td>\n",
       "      <td>Commercial Bank of Ethiopia</td>\n",
       "      <td>5</td>\n",
       "    </tr>\n",
       "    <tr>\n",
       "      <th>6287</th>\n",
       "      <td>6287</td>\n",
       "      <td>simple comfortable app easy easy use want than...</td>\n",
       "      <td>positive</td>\n",
       "      <td>0.999685</td>\n",
       "      <td>User Experience &amp; Design, Functionality &amp; Feat...</td>\n",
       "      <td>Commercial Bank of Ethiopia</td>\n",
       "      <td>4</td>\n",
       "    </tr>\n",
       "    <tr>\n",
       "      <th>6288</th>\n",
       "      <td>6288</td>\n",
       "      <td>comfortable efficient easy</td>\n",
       "      <td>positive</td>\n",
       "      <td>0.999871</td>\n",
       "      <td>General Feedback</td>\n",
       "      <td>Commercial Bank of Ethiopia</td>\n",
       "      <td>5</td>\n",
       "    </tr>\n",
       "    <tr>\n",
       "      <th>6289</th>\n",
       "      <td>6289</td>\n",
       "      <td>easy app see</td>\n",
       "      <td>positive</td>\n",
       "      <td>0.962625</td>\n",
       "      <td>General Feedback</td>\n",
       "      <td>Commercial Bank of Ethiopia</td>\n",
       "      <td>5</td>\n",
       "    </tr>\n",
       "  </tbody>\n",
       "</table>\n",
       "<p>3430 rows × 7 columns</p>\n",
       "</div>"
      ],
      "text/plain": [
       "      review_id                                        review_text  \\\n",
       "1             1                                               good   \n",
       "4             4                                               well   \n",
       "5             5                                            bezabih   \n",
       "6             6                            good mobile banking app   \n",
       "7             7                                               good   \n",
       "...         ...                                                ...   \n",
       "6285       6285  commercial bank mobile banking mobile banking ...   \n",
       "6286       6286                  good application truly cool apple   \n",
       "6287       6287  simple comfortable app easy easy use want than...   \n",
       "6288       6288                         comfortable efficient easy   \n",
       "6289       6289                                       easy app see   \n",
       "\n",
       "     sentiment_label  sentiment_score  \\\n",
       "1           positive         0.999816   \n",
       "4           positive         0.999794   \n",
       "5           positive         0.965407   \n",
       "6           positive         0.999729   \n",
       "7           positive         0.999816   \n",
       "...              ...              ...   \n",
       "6285        positive         0.999623   \n",
       "6286        positive         0.999874   \n",
       "6287        positive         0.999685   \n",
       "6288        positive         0.999871   \n",
       "6289        positive         0.962625   \n",
       "\n",
       "                                    identified_theme(s)  \\\n",
       "1                              User Experience & Design   \n",
       "4                                      General Feedback   \n",
       "5                                      General Feedback   \n",
       "6     User Experience & Design, Functionality & Feat...   \n",
       "7                              User Experience & Design   \n",
       "...                                                 ...   \n",
       "6285                           Functionality & Features   \n",
       "6286  User Experience & Design, Functionality & Feat...   \n",
       "6287  User Experience & Design, Functionality & Feat...   \n",
       "6288                                   General Feedback   \n",
       "6289                                   General Feedback   \n",
       "\n",
       "                             bank  rating  \n",
       "1     Commercial Bank of Ethiopia       4  \n",
       "4     Commercial Bank of Ethiopia       5  \n",
       "5     Commercial Bank of Ethiopia       5  \n",
       "6     Commercial Bank of Ethiopia       5  \n",
       "7     Commercial Bank of Ethiopia       5  \n",
       "...                           ...     ...  \n",
       "6285  Commercial Bank of Ethiopia       5  \n",
       "6286  Commercial Bank of Ethiopia       5  \n",
       "6287  Commercial Bank of Ethiopia       4  \n",
       "6288  Commercial Bank of Ethiopia       5  \n",
       "6289  Commercial Bank of Ethiopia       5  \n",
       "\n",
       "[3430 rows x 7 columns]"
      ]
     },
     "execution_count": 9,
     "metadata": {},
     "output_type": "execute_result"
    }
   ],
   "source": [
    "cbe_pos = df[(df[\"bank\"] == \"Commercial Bank of Ethiopia\") & (df[\"sentiment_label\"] == \"positive\")]\n",
    "cbe_pos"
   ]
  },
  {
   "cell_type": "markdown",
   "id": "436aa2a4",
   "metadata": {},
   "source": [
    "2.2.1 Pain Points Bank Wise - Commercial Bank of Ethiopia"
   ]
  },
  {
   "cell_type": "code",
   "execution_count": 10,
   "id": "1d11741a",
   "metadata": {},
   "outputs": [
    {
     "data": {
      "application/vnd.microsoft.datawrangler.viewer.v0+json": {
       "columns": [
        {
         "name": "index",
         "rawType": "int64",
         "type": "integer"
        },
        {
         "name": "review_id",
         "rawType": "int64",
         "type": "integer"
        },
        {
         "name": "review_text",
         "rawType": "object",
         "type": "unknown"
        },
        {
         "name": "sentiment_label",
         "rawType": "object",
         "type": "string"
        },
        {
         "name": "sentiment_score",
         "rawType": "float64",
         "type": "float"
        },
        {
         "name": "identified_theme(s)",
         "rawType": "object",
         "type": "string"
        },
        {
         "name": "bank",
         "rawType": "object",
         "type": "string"
        },
        {
         "name": "rating",
         "rawType": "int64",
         "type": "integer"
        }
       ],
       "ref": "64f082b5-2d88-417c-a872-46e84674bea7",
       "rows": [
        [
         "0",
         "0",
         "send cbebirr app app",
         "negative",
         "-0.9953354001045228",
         "General Feedback",
         "Commercial Bank of Ethiopia",
         "3"
        ],
        [
         "2",
         "2",
         "functional",
         "negative",
         "-0.999778687953949",
         "General Feedback",
         "Commercial Bank of Ethiopia",
         "1"
        ],
        [
         "3",
         "3",
         "everytime uninstall app reach physically oldy security layer check fraud attempt app source app store play store etc implicitly physical presence app install rare",
         "negative",
         "-0.9905162453651428",
         "Account Access",
         "Commercial Bank of Ethiopia",
         "1"
        ],
        [
         "8",
         "8",
         "good app issue like not right bank issue transfer",
         "negative",
         "-0.998119294643402",
         "User Experience & Design, Technical Issues, Functionality & Features",
         "Commercial Bank of Ethiopia",
         "2"
        ],
        [
         "9",
         "9",
         "dedeb",
         "negative",
         "-0.9974835515022278",
         "General Feedback",
         "Commercial Bank of Ethiopia",
         "5"
        ],
        [
         "14",
         "14",
         "engida kebede fetera",
         "negative",
         "-0.8396738767623901",
         "General Feedback",
         "Commercial Bank of Ethiopia",
         "5"
        ],
        [
         "16",
         "16",
         "safety",
         "negative",
         "-0.9997867941856384",
         "General Feedback",
         "Commercial Bank of Ethiopia",
         "1"
        ],
        [
         "18",
         "18",
         "like childish app well bad see",
         "negative",
         "-0.9997958540916444",
         "General Feedback",
         "Commercial Bank of Ethiopia",
         "1"
        ],
        [
         "23",
         "23",
         "app develop good way comment need prevent screenshot likely good like coz need screenshot quick evidence good access recent transaction history day coz bank person old transaction add colander category user easily access old transaction colander",
         "negative",
         "-0.9983141422271729",
         "User Experience & Design, Functionality & Features, Account Access",
         "Commercial Bank of Ethiopia",
         "5"
        ],
        [
         "24",
         "24",
         "masha alla",
         "negative",
         "-0.9514628052711488",
         "General Feedback",
         "Commercial Bank of Ethiopia",
         "5"
        ],
        [
         "25",
         "25",
         "recently big problem send safaricom telebir cbebirr wallet anybody responsible fix frustrating day money return take account send mpesa correct send money afraid send",
         "negative",
         "-0.9991102814674376",
         "Customer Support, Technical Issues, Functionality & Features, Account Access",
         "Commercial Bank of Ethiopia",
         "2"
        ],
        [
         "28",
         "28",
         "malkaamuu jiidhaa namoo",
         "negative",
         "-0.9887813329696656",
         "General Feedback",
         "Commercial Bank of Ethiopia",
         "5"
        ],
        [
         "29",
         "29",
         "low system",
         "negative",
         "-0.9993475079536438",
         "Technical Issues",
         "Commercial Bank of Ethiopia",
         "3"
        ],
        [
         "33",
         "33",
         "app year problem stop work month ago try transfer fund give error transaction inactive account",
         "negative",
         "-0.9996353387832642",
         "Technical Issues, Functionality & Features, Account Access",
         "Commercial Bank of Ethiopia",
         "4"
        ],
        [
         "46",
         "46",
         "cbe app highly unreliable recent week frequently fail work properly ethio telecom safaricom network wi fi mobile datum week system entirely extended period make difficult access banking service app function intermittently lack consistency frustrating hope issue address soon non technical influence remove essential service",
         "negative",
         "-0.9997394680976868",
         "Technical Issues, Account Access",
         "Commercial Bank of Ethiopia",
         "2"
        ],
        [
         "47",
         "47",
         "mortuary app",
         "negative",
         "-0.7924920320510864",
         "General Feedback",
         "Commercial Bank of Ethiopia",
         "5"
        ],
        [
         "48",
         "48",
         "smart app stop period time device reason",
         "negative",
         "-0.9961044788360596",
         "General Feedback",
         "Commercial Bank of Ethiopia",
         "5"
        ],
        [
         "53",
         "53",
         "fast",
         "negative",
         "-0.9949808716773988",
         "General Feedback",
         "Commercial Bank of Ethiopia",
         "1"
        ],
        [
         "62",
         "62",
         "change default network",
         "negative",
         "-0.9962357878684998",
         "Technical Issues",
         "Commercial Bank of Ethiopia",
         "5"
        ],
        [
         "66",
         "66",
         "money",
         "negative",
         "-0.9934091567993164",
         "General Feedback",
         "Commercial Bank of Ethiopia",
         "5"
        ],
        [
         "67",
         "67",
         "bad load need improve service",
         "negative",
         "-0.999816596508026",
         "Technical Issues",
         "Commercial Bank of Ethiopia",
         "1"
        ],
        [
         "69",
         "69",
         "busy know prefer",
         "negative",
         "-0.9991938471794128",
         "General Feedback",
         "Commercial Bank of Ethiopia",
         "3"
        ],
        [
         "70",
         "70",
         "nasty lag hour fix rest",
         "negative",
         "-0.9966771602630616",
         "Technical Issues",
         "Commercial Bank of Ethiopia",
         "4"
        ],
        [
         "71",
         "71",
         "boring mobil banking application use alternative private bank mobile banking app",
         "negative",
         "-0.9986202716827391",
         "Functionality & Features",
         "Commercial Bank of Ethiopia",
         "1"
        ],
        [
         "77",
         "77",
         "sync problem date stack help pls",
         "negative",
         "-0.992516815662384",
         "Customer Support, Technical Issues",
         "Commercial Bank of Ethiopia",
         "5"
        ],
        [
         "78",
         "78",
         "hate app",
         "negative",
         "-0.9996378421783448",
         "General Feedback",
         "Commercial Bank of Ethiopia",
         "1"
        ],
        [
         "82",
         "82",
         "work safari network",
         "negative",
         "-0.9991377592086792",
         "General Feedback",
         "Commercial Bank of Ethiopia",
         "1"
        ],
        [
         "83",
         "83",
         "oldie",
         "negative",
         "-0.6663163304328918",
         "General Feedback",
         "Commercial Bank of Ethiopia",
         "1"
        ],
        [
         "84",
         "84",
         "work",
         "negative",
         "-0.9997813105583192",
         "General Feedback",
         "Commercial Bank of Ethiopia",
         "1"
        ],
        [
         "98",
         "98",
         "screenshot reffresh option annoying make transaction delay activity",
         "negative",
         "-0.9997513890266418",
         "Functionality & Features",
         "Commercial Bank of Ethiopia",
         "2"
        ],
        [
         "99",
         "99",
         "poor service",
         "negative",
         "-0.999653458595276",
         "General Feedback",
         "Commercial Bank of Ethiopia",
         "1"
        ],
        [
         "102",
         "102",
         "annoying mobile banking app see",
         "negative",
         "-0.9994208812713624",
         "Functionality & Features",
         "Commercial Bank of Ethiopia",
         "1"
        ],
        [
         "103",
         "103",
         "eliasmel",
         "negative",
         "-0.5762406587600708",
         "General Feedback",
         "Commercial Bank of Ethiopia",
         "5"
        ],
        [
         "105",
         "105",
         "screenshout app modification",
         "negative",
         "-0.9966920614242554",
         "General Feedback",
         "Commercial Bank of Ethiopia",
         "5"
        ],
        [
         "109",
         "109",
         "amazing applicatiom not work",
         "negative",
         "-0.6448792219161987",
         "User Experience & Design, Technical Issues",
         "Commercial Bank of Ethiopia",
         "5"
        ],
        [
         "114",
         "114",
         "work",
         "negative",
         "-0.9995881915092468",
         "General Feedback",
         "Commercial Bank of Ethiopia",
         "5"
        ],
        [
         "115",
         "115",
         "great impact developer option turnoff fix",
         "negative",
         "-0.9841780066490172",
         "Technical Issues",
         "Commercial Bank of Ethiopia",
         "5"
        ],
        [
         "117",
         "117",
         "disappointing especially ios similar local application extremely superior application disappointing",
         "negative",
         "-0.9996201992034912",
         "Functionality & Features",
         "Commercial Bank of Ethiopia",
         "1"
        ],
        [
         "118",
         "118",
         "woxe harimo ribiso",
         "negative",
         "-0.9374372959136964",
         "General Feedback",
         "Commercial Bank of Ethiopia",
         "5"
        ],
        [
         "126",
         "126",
         "cbe mobile banking app overall appreciate feutere nottice turn developer option divice function prorerly great look issue l need access developer set otter application thankyou attention matter",
         "negative",
         "-0.9474119544029236",
         "Technical Issues, Functionality & Features, Account Access",
         "Commercial Bank of Ethiopia",
         "4"
        ],
        [
         "127",
         "127",
         "customer service bad good bank",
         "negative",
         "-0.9996613264083862",
         "User Experience & Design, Customer Support",
         "Commercial Bank of Ethiopia",
         "1"
        ],
        [
         "128",
         "128",
         "amazing mobile banking app screenshot receipt not work",
         "negative",
         "-0.992915153503418",
         "Technical Issues, Functionality & Features",
         "Commercial Bank of Ethiopia",
         "5"
        ],
        [
         "131",
         "131",
         "fund transfer bank reflect account confirmation text message receive",
         "negative",
         "-0.9986681938171388",
         "Functionality & Features, Account Access",
         "Commercial Bank of Ethiopia",
         "3"
        ],
        [
         "133",
         "133",
         "app self activation look near cbe branch disgusting",
         "negative",
         "-0.9960438013076782",
         "Customer Support",
         "Commercial Bank of Ethiopia",
         "1"
        ],
        [
         "137",
         "137",
         "sorry developer mode application hack sure developer stupid not make sense",
         "negative",
         "-0.9997019171714784",
         "Functionality & Features",
         "Commercial Bank of Ethiopia",
         "1"
        ],
        [
         "140",
         "140",
         "app tell turn developer option fix",
         "negative",
         "-0.9990994930267334",
         "Technical Issues",
         "Commercial Bank of Ethiopia",
         "1"
        ],
        [
         "147",
         "147",
         "need improvement",
         "negative",
         "-0.9966731071472168",
         "Technical Issues",
         "Commercial Bank of Ethiopia",
         "1"
        ],
        [
         "148",
         "148",
         "miss old send mony bank",
         "negative",
         "-0.995843231678009",
         "Functionality & Features",
         "Commercial Bank of Ethiopia",
         "1"
        ],
        [
         "149",
         "149",
         "app recently crush time open try transfer good lesson dashen super app ethiotelecom befit experience glory make friendly convenient consider leave cbe good",
         "negative",
         "-0.9984410405158995",
         "User Experience & Design, Functionality & Features",
         "Commercial Bank of Ethiopia",
         "2"
        ],
        [
         "151",
         "151",
         "good week oky",
         "negative",
         "-0.9554156064987184",
         "User Experience & Design",
         "Commercial Bank of Ethiopia",
         "4"
        ]
       ],
       "shape": {
        "columns": 7,
        "rows": 1464
       }
      },
      "text/html": [
       "<div>\n",
       "<style scoped>\n",
       "    .dataframe tbody tr th:only-of-type {\n",
       "        vertical-align: middle;\n",
       "    }\n",
       "\n",
       "    .dataframe tbody tr th {\n",
       "        vertical-align: top;\n",
       "    }\n",
       "\n",
       "    .dataframe thead th {\n",
       "        text-align: right;\n",
       "    }\n",
       "</style>\n",
       "<table border=\"1\" class=\"dataframe\">\n",
       "  <thead>\n",
       "    <tr style=\"text-align: right;\">\n",
       "      <th></th>\n",
       "      <th>review_id</th>\n",
       "      <th>review_text</th>\n",
       "      <th>sentiment_label</th>\n",
       "      <th>sentiment_score</th>\n",
       "      <th>identified_theme(s)</th>\n",
       "      <th>bank</th>\n",
       "      <th>rating</th>\n",
       "    </tr>\n",
       "  </thead>\n",
       "  <tbody>\n",
       "    <tr>\n",
       "      <th>0</th>\n",
       "      <td>0</td>\n",
       "      <td>send cbebirr app app</td>\n",
       "      <td>negative</td>\n",
       "      <td>-0.995335</td>\n",
       "      <td>General Feedback</td>\n",
       "      <td>Commercial Bank of Ethiopia</td>\n",
       "      <td>3</td>\n",
       "    </tr>\n",
       "    <tr>\n",
       "      <th>2</th>\n",
       "      <td>2</td>\n",
       "      <td>functional</td>\n",
       "      <td>negative</td>\n",
       "      <td>-0.999779</td>\n",
       "      <td>General Feedback</td>\n",
       "      <td>Commercial Bank of Ethiopia</td>\n",
       "      <td>1</td>\n",
       "    </tr>\n",
       "    <tr>\n",
       "      <th>3</th>\n",
       "      <td>3</td>\n",
       "      <td>everytime uninstall app reach physically oldy ...</td>\n",
       "      <td>negative</td>\n",
       "      <td>-0.990516</td>\n",
       "      <td>Account Access</td>\n",
       "      <td>Commercial Bank of Ethiopia</td>\n",
       "      <td>1</td>\n",
       "    </tr>\n",
       "    <tr>\n",
       "      <th>8</th>\n",
       "      <td>8</td>\n",
       "      <td>good app issue like not right bank issue transfer</td>\n",
       "      <td>negative</td>\n",
       "      <td>-0.998119</td>\n",
       "      <td>User Experience &amp; Design, Technical Issues, Fu...</td>\n",
       "      <td>Commercial Bank of Ethiopia</td>\n",
       "      <td>2</td>\n",
       "    </tr>\n",
       "    <tr>\n",
       "      <th>9</th>\n",
       "      <td>9</td>\n",
       "      <td>dedeb</td>\n",
       "      <td>negative</td>\n",
       "      <td>-0.997484</td>\n",
       "      <td>General Feedback</td>\n",
       "      <td>Commercial Bank of Ethiopia</td>\n",
       "      <td>5</td>\n",
       "    </tr>\n",
       "    <tr>\n",
       "      <th>...</th>\n",
       "      <td>...</td>\n",
       "      <td>...</td>\n",
       "      <td>...</td>\n",
       "      <td>...</td>\n",
       "      <td>...</td>\n",
       "      <td>...</td>\n",
       "      <td>...</td>\n",
       "    </tr>\n",
       "    <tr>\n",
       "      <th>6271</th>\n",
       "      <td>6271</td>\n",
       "      <td>try thing try life time person appointment app...</td>\n",
       "      <td>negative</td>\n",
       "      <td>-0.997184</td>\n",
       "      <td>General Feedback</td>\n",
       "      <td>Commercial Bank of Ethiopia</td>\n",
       "      <td>1</td>\n",
       "    </tr>\n",
       "    <tr>\n",
       "      <th>6273</th>\n",
       "      <td>6273</td>\n",
       "      <td>knee</td>\n",
       "      <td>negative</td>\n",
       "      <td>-0.950085</td>\n",
       "      <td>General Feedback</td>\n",
       "      <td>Commercial Bank of Ethiopia</td>\n",
       "      <td>5</td>\n",
       "    </tr>\n",
       "    <tr>\n",
       "      <th>6282</th>\n",
       "      <td>6282</td>\n",
       "      <td>money send</td>\n",
       "      <td>negative</td>\n",
       "      <td>-0.941162</td>\n",
       "      <td>General Feedback</td>\n",
       "      <td>Commercial Bank of Ethiopia</td>\n",
       "      <td>5</td>\n",
       "    </tr>\n",
       "    <tr>\n",
       "      <th>6283</th>\n",
       "      <td>6283</td>\n",
       "      <td>j ejector</td>\n",
       "      <td>negative</td>\n",
       "      <td>-0.999140</td>\n",
       "      <td>General Feedback</td>\n",
       "      <td>Commercial Bank of Ethiopia</td>\n",
       "      <td>3</td>\n",
       "    </tr>\n",
       "    <tr>\n",
       "      <th>6290</th>\n",
       "      <td>6290</td>\n",
       "      <td>thank free internet</td>\n",
       "      <td>negative</td>\n",
       "      <td>-0.998730</td>\n",
       "      <td>General Feedback</td>\n",
       "      <td>Commercial Bank of Ethiopia</td>\n",
       "      <td>5</td>\n",
       "    </tr>\n",
       "  </tbody>\n",
       "</table>\n",
       "<p>1464 rows × 7 columns</p>\n",
       "</div>"
      ],
      "text/plain": [
       "      review_id                                        review_text  \\\n",
       "0             0                               send cbebirr app app   \n",
       "2             2                                         functional   \n",
       "3             3  everytime uninstall app reach physically oldy ...   \n",
       "8             8  good app issue like not right bank issue transfer   \n",
       "9             9                                              dedeb   \n",
       "...         ...                                                ...   \n",
       "6271       6271  try thing try life time person appointment app...   \n",
       "6273       6273                                               knee   \n",
       "6282       6282                                         money send   \n",
       "6283       6283                                          j ejector   \n",
       "6290       6290                                thank free internet   \n",
       "\n",
       "     sentiment_label  sentiment_score  \\\n",
       "0           negative        -0.995335   \n",
       "2           negative        -0.999779   \n",
       "3           negative        -0.990516   \n",
       "8           negative        -0.998119   \n",
       "9           negative        -0.997484   \n",
       "...              ...              ...   \n",
       "6271        negative        -0.997184   \n",
       "6273        negative        -0.950085   \n",
       "6282        negative        -0.941162   \n",
       "6283        negative        -0.999140   \n",
       "6290        negative        -0.998730   \n",
       "\n",
       "                                    identified_theme(s)  \\\n",
       "0                                      General Feedback   \n",
       "2                                      General Feedback   \n",
       "3                                        Account Access   \n",
       "8     User Experience & Design, Technical Issues, Fu...   \n",
       "9                                      General Feedback   \n",
       "...                                                 ...   \n",
       "6271                                   General Feedback   \n",
       "6273                                   General Feedback   \n",
       "6282                                   General Feedback   \n",
       "6283                                   General Feedback   \n",
       "6290                                   General Feedback   \n",
       "\n",
       "                             bank  rating  \n",
       "0     Commercial Bank of Ethiopia       3  \n",
       "2     Commercial Bank of Ethiopia       1  \n",
       "3     Commercial Bank of Ethiopia       1  \n",
       "8     Commercial Bank of Ethiopia       2  \n",
       "9     Commercial Bank of Ethiopia       5  \n",
       "...                           ...     ...  \n",
       "6271  Commercial Bank of Ethiopia       1  \n",
       "6273  Commercial Bank of Ethiopia       5  \n",
       "6282  Commercial Bank of Ethiopia       5  \n",
       "6283  Commercial Bank of Ethiopia       3  \n",
       "6290  Commercial Bank of Ethiopia       5  \n",
       "\n",
       "[1464 rows x 7 columns]"
      ]
     },
     "execution_count": 10,
     "metadata": {},
     "output_type": "execute_result"
    }
   ],
   "source": [
    "cbe_neg = df[(df[\"bank\"] == \"Commercial Bank of Ethiopia\") & (df[\"sentiment_label\"] == \"negative\")]\n",
    "cbe_neg"
   ]
  },
  {
   "cell_type": "markdown",
   "id": "3a22c01a",
   "metadata": {},
   "source": [
    "2.3 Drivers Bank Wise - Bank of Abyssinia"
   ]
  },
  {
   "cell_type": "code",
   "execution_count": 11,
   "id": "0e95462c",
   "metadata": {},
   "outputs": [
    {
     "data": {
      "application/vnd.microsoft.datawrangler.viewer.v0+json": {
       "columns": [
        {
         "name": "index",
         "rawType": "int64",
         "type": "integer"
        },
        {
         "name": "review_id",
         "rawType": "int64",
         "type": "integer"
        },
        {
         "name": "review_text",
         "rawType": "object",
         "type": "unknown"
        },
        {
         "name": "sentiment_label",
         "rawType": "object",
         "type": "string"
        },
        {
         "name": "sentiment_score",
         "rawType": "float64",
         "type": "float"
        },
        {
         "name": "identified_theme(s)",
         "rawType": "object",
         "type": "string"
        },
        {
         "name": "bank",
         "rawType": "object",
         "type": "string"
        },
        {
         "name": "rating",
         "rawType": "int64",
         "type": "integer"
        }
       ],
       "ref": "e6952cd3-9299-47b3-a22c-a48b51137ab6",
       "rows": [
        [
         "4601",
         "4601",
         "exceptional",
         "positive",
         "0.9998514652252196",
         "General Feedback",
         "Bank of Abyssinia",
         "5"
        ],
        [
         "4602",
         "4602",
         "boa mobile good bank",
         "positive",
         "0.9984728693962096",
         "Banking Services, User Experience",
         "Bank of Abyssinia",
         "5"
        ],
        [
         "4606",
         "4606",
         "nice abyssinia bank choice",
         "positive",
         "0.999583065509796",
         "General Feedback",
         "Bank of Abyssinia",
         "5"
        ],
        [
         "4608",
         "4608",
         "good service",
         "positive",
         "0.9998533725738524",
         "User Experience",
         "Bank of Abyssinia",
         "3"
        ],
        [
         "4610",
         "4610",
         "good",
         "positive",
         "0.999816119670868",
         "User Experience",
         "Bank of Abyssinia",
         "5"
        ],
        [
         "4612",
         "4612",
         "good",
         "positive",
         "0.999816119670868",
         "User Experience",
         "Bank of Abyssinia",
         "5"
        ],
        [
         "4615",
         "4615",
         "good",
         "positive",
         "0.999816119670868",
         "User Experience",
         "Bank of Abyssinia",
         "5"
        ],
        [
         "4618",
         "4618",
         "amazing",
         "positive",
         "0.999875545501709",
         "General Feedback",
         "Bank of Abyssinia",
         "5"
        ],
        [
         "4619",
         "4619",
         "excellent app",
         "positive",
         "0.9998356103897096",
         "General Feedback",
         "Bank of Abyssinia",
         "4"
        ],
        [
         "4620",
         "4620",
         "excellent",
         "positive",
         "0.9998434782028198",
         "General Feedback",
         "Bank of Abyssinia",
         "5"
        ],
        [
         "4622",
         "4622",
         "nice",
         "positive",
         "0.9998552799224854",
         "General Feedback",
         "Bank of Abyssinia",
         "5"
        ],
        [
         "4624",
         "4624",
         "good app",
         "positive",
         "0.999686598777771",
         "User Experience",
         "Bank of Abyssinia",
         "5"
        ],
        [
         "4625",
         "4625",
         "like application good",
         "positive",
         "0.9996829032897948",
         "User Experience",
         "Bank of Abyssinia",
         "5"
        ],
        [
         "4627",
         "4627",
         "good",
         "positive",
         "0.999816119670868",
         "User Experience",
         "Bank of Abyssinia",
         "5"
        ],
        [
         "4628",
         "4628",
         "good",
         "positive",
         "0.999816119670868",
         "User Experience",
         "Bank of Abyssinia",
         "5"
        ],
        [
         "4629",
         "4629",
         "good",
         "positive",
         "0.999816119670868",
         "User Experience",
         "Bank of Abyssinia",
         "4"
        ],
        [
         "4630",
         "4630",
         "wow",
         "positive",
         "0.999592125415802",
         "General Feedback",
         "Bank of Abyssinia",
         "5"
        ],
        [
         "4631",
         "4631",
         "good",
         "positive",
         "0.9998701810836792",
         "User Experience",
         "Bank of Abyssinia",
         "5"
        ],
        [
         "4634",
         "4634",
         "well",
         "positive",
         "0.9997941851615906",
         "General Feedback",
         "Bank of Abyssinia",
         "2"
        ],
        [
         "4637",
         "4637",
         "great boa",
         "positive",
         "0.9992689490318298",
         "General Feedback",
         "Bank of Abyssinia",
         "5"
        ],
        [
         "4638",
         "4638",
         "well",
         "positive",
         "0.9997941851615906",
         "General Feedback",
         "Bank of Abyssinia",
         "5"
        ],
        [
         "4640",
         "4640",
         "nice",
         "positive",
         "0.9998552799224854",
         "General Feedback",
         "Bank of Abyssinia",
         "5"
        ],
        [
         "4641",
         "4641",
         "fast bank abissinya",
         "positive",
         "0.9722142815589904",
         "General Feedback",
         "Bank of Abyssinia",
         "5"
        ],
        [
         "4644",
         "4644",
         "like",
         "positive",
         "0.9910564422607422",
         "General Feedback",
         "Bank of Abyssinia",
         "5"
        ],
        [
         "4646",
         "4646",
         "app get considerable improvement like language qr scanner unlimited transfer survice boa alot fastness convenient login make transaction",
         "positive",
         "0.9575353264808656",
         "Security & Access, Banking Services",
         "Bank of Abyssinia",
         "5"
        ],
        [
         "4649",
         "4649",
         "good",
         "positive",
         "0.9998520612716676",
         "User Experience",
         "Bank of Abyssinia",
         "5"
        ],
        [
         "4650",
         "4650",
         "thank",
         "positive",
         "0.9998352527618408",
         "General Feedback",
         "Bank of Abyssinia",
         "5"
        ],
        [
         "4653",
         "4653",
         "good application",
         "positive",
         "0.999854564666748",
         "User Experience",
         "Bank of Abyssinia",
         "5"
        ],
        [
         "4658",
         "4658",
         "good app",
         "positive",
         "0.999686598777771",
         "User Experience",
         "Bank of Abyssinia",
         "5"
        ],
        [
         "4659",
         "4659",
         "good",
         "positive",
         "0.9998520612716676",
         "User Experience",
         "Bank of Abyssinia",
         "5"
        ],
        [
         "4661",
         "4661",
         "great boa",
         "positive",
         "0.9992689490318298",
         "General Feedback",
         "Bank of Abyssinia",
         "5"
        ],
        [
         "4662",
         "4662",
         "well",
         "positive",
         "0.9997941851615906",
         "General Feedback",
         "Bank of Abyssinia",
         "5"
        ],
        [
         "4664",
         "4664",
         "good",
         "positive",
         "0.999816119670868",
         "User Experience",
         "Bank of Abyssinia",
         "5"
        ],
        [
         "4665",
         "4665",
         "good",
         "positive",
         "0.999816119670868",
         "User Experience",
         "Bank of Abyssinia",
         "5"
        ],
        [
         "4668",
         "4668",
         "wonderful",
         "positive",
         "0.9998772144317628",
         "General Feedback",
         "Bank of Abyssinia",
         "5"
        ],
        [
         "4670",
         "4670",
         "good app",
         "positive",
         "0.999686598777771",
         "User Experience",
         "Bank of Abyssinia",
         "5"
        ],
        [
         "4671",
         "4671",
         "love",
         "positive",
         "0.9998797178268432",
         "General Feedback",
         "Bank of Abyssinia",
         "5"
        ],
        [
         "4672",
         "4672",
         "wow",
         "positive",
         "0.999592125415802",
         "General Feedback",
         "Bank of Abyssinia",
         "1"
        ],
        [
         "4674",
         "4674",
         "improve good",
         "positive",
         "0.9998570680618286",
         "User Experience",
         "Bank of Abyssinia",
         "5"
        ],
        [
         "4680",
         "4680",
         "awesome app simple use important app",
         "positive",
         "0.9998214840888976",
         "User Experience",
         "Bank of Abyssinia",
         "5"
        ],
        [
         "4681",
         "4681",
         "wonderfull app",
         "positive",
         "0.9998815059661864",
         "General Feedback",
         "Bank of Abyssinia",
         "5"
        ],
        [
         "4684",
         "4684",
         "wow",
         "positive",
         "0.999592125415802",
         "General Feedback",
         "Bank of Abyssinia",
         "4"
        ],
        [
         "4687",
         "4687",
         "good app",
         "positive",
         "0.9998493194580078",
         "User Experience",
         "Bank of Abyssinia",
         "5"
        ],
        [
         "4692",
         "4692",
         "verry amazing app ib",
         "positive",
         "0.9997394680976868",
         "General Feedback",
         "Bank of Abyssinia",
         "5"
        ],
        [
         "4694",
         "4694",
         "thank boa",
         "positive",
         "0.9998399019241332",
         "General Feedback",
         "Bank of Abyssinia",
         "5"
        ],
        [
         "4695",
         "4695",
         "good banking app wworld",
         "positive",
         "0.999572217464447",
         "Banking Services, User Experience",
         "Bank of Abyssinia",
         "5"
        ],
        [
         "4696",
         "4696",
         "nice app easy use",
         "positive",
         "0.999751627445221",
         "User Experience",
         "Bank of Abyssinia",
         "5"
        ],
        [
         "4698",
         "4698",
         "help like ittttt",
         "positive",
         "0.9977995753288268",
         "General Feedback",
         "Bank of Abyssinia",
         "5"
        ],
        [
         "4700",
         "4700",
         "good bank",
         "positive",
         "0.9997438788414",
         "User Experience",
         "Bank of Abyssinia",
         "5"
        ],
        [
         "4701",
         "4701",
         "easy convienient use perfect high prefrence choice",
         "positive",
         "0.9997236132621764",
         "Technical Features",
         "Bank of Abyssinia",
         "3"
        ]
       ],
       "shape": {
        "columns": 7,
        "rows": 468
       }
      },
      "text/html": [
       "<div>\n",
       "<style scoped>\n",
       "    .dataframe tbody tr th:only-of-type {\n",
       "        vertical-align: middle;\n",
       "    }\n",
       "\n",
       "    .dataframe tbody tr th {\n",
       "        vertical-align: top;\n",
       "    }\n",
       "\n",
       "    .dataframe thead th {\n",
       "        text-align: right;\n",
       "    }\n",
       "</style>\n",
       "<table border=\"1\" class=\"dataframe\">\n",
       "  <thead>\n",
       "    <tr style=\"text-align: right;\">\n",
       "      <th></th>\n",
       "      <th>review_id</th>\n",
       "      <th>review_text</th>\n",
       "      <th>sentiment_label</th>\n",
       "      <th>sentiment_score</th>\n",
       "      <th>identified_theme(s)</th>\n",
       "      <th>bank</th>\n",
       "      <th>rating</th>\n",
       "    </tr>\n",
       "  </thead>\n",
       "  <tbody>\n",
       "    <tr>\n",
       "      <th>4601</th>\n",
       "      <td>4601</td>\n",
       "      <td>exceptional</td>\n",
       "      <td>positive</td>\n",
       "      <td>0.999851</td>\n",
       "      <td>General Feedback</td>\n",
       "      <td>Bank of Abyssinia</td>\n",
       "      <td>5</td>\n",
       "    </tr>\n",
       "    <tr>\n",
       "      <th>4602</th>\n",
       "      <td>4602</td>\n",
       "      <td>boa mobile good bank</td>\n",
       "      <td>positive</td>\n",
       "      <td>0.998473</td>\n",
       "      <td>Banking Services, User Experience</td>\n",
       "      <td>Bank of Abyssinia</td>\n",
       "      <td>5</td>\n",
       "    </tr>\n",
       "    <tr>\n",
       "      <th>4606</th>\n",
       "      <td>4606</td>\n",
       "      <td>nice abyssinia bank choice</td>\n",
       "      <td>positive</td>\n",
       "      <td>0.999583</td>\n",
       "      <td>General Feedback</td>\n",
       "      <td>Bank of Abyssinia</td>\n",
       "      <td>5</td>\n",
       "    </tr>\n",
       "    <tr>\n",
       "      <th>4608</th>\n",
       "      <td>4608</td>\n",
       "      <td>good service</td>\n",
       "      <td>positive</td>\n",
       "      <td>0.999853</td>\n",
       "      <td>User Experience</td>\n",
       "      <td>Bank of Abyssinia</td>\n",
       "      <td>3</td>\n",
       "    </tr>\n",
       "    <tr>\n",
       "      <th>4610</th>\n",
       "      <td>4610</td>\n",
       "      <td>good</td>\n",
       "      <td>positive</td>\n",
       "      <td>0.999816</td>\n",
       "      <td>User Experience</td>\n",
       "      <td>Bank of Abyssinia</td>\n",
       "      <td>5</td>\n",
       "    </tr>\n",
       "    <tr>\n",
       "      <th>...</th>\n",
       "      <td>...</td>\n",
       "      <td>...</td>\n",
       "      <td>...</td>\n",
       "      <td>...</td>\n",
       "      <td>...</td>\n",
       "      <td>...</td>\n",
       "      <td>...</td>\n",
       "    </tr>\n",
       "    <tr>\n",
       "      <th>6343</th>\n",
       "      <td>6343</td>\n",
       "      <td>NaN</td>\n",
       "      <td>positive</td>\n",
       "      <td>0.600000</td>\n",
       "      <td>General Feedback</td>\n",
       "      <td>Bank of Abyssinia</td>\n",
       "      <td>5</td>\n",
       "    </tr>\n",
       "    <tr>\n",
       "      <th>6347</th>\n",
       "      <td>6347</td>\n",
       "      <td>NaN</td>\n",
       "      <td>positive</td>\n",
       "      <td>0.600000</td>\n",
       "      <td>General Feedback</td>\n",
       "      <td>Bank of Abyssinia</td>\n",
       "      <td>5</td>\n",
       "    </tr>\n",
       "    <tr>\n",
       "      <th>6348</th>\n",
       "      <td>6348</td>\n",
       "      <td>interesting</td>\n",
       "      <td>positive</td>\n",
       "      <td>0.999879</td>\n",
       "      <td>General Feedback</td>\n",
       "      <td>Bank of Abyssinia</td>\n",
       "      <td>5</td>\n",
       "    </tr>\n",
       "    <tr>\n",
       "      <th>6349</th>\n",
       "      <td>6349</td>\n",
       "      <td>NaN</td>\n",
       "      <td>positive</td>\n",
       "      <td>0.600000</td>\n",
       "      <td>General Feedback</td>\n",
       "      <td>Bank of Abyssinia</td>\n",
       "      <td>3</td>\n",
       "    </tr>\n",
       "    <tr>\n",
       "      <th>6350</th>\n",
       "      <td>6350</td>\n",
       "      <td>NaN</td>\n",
       "      <td>positive</td>\n",
       "      <td>0.600000</td>\n",
       "      <td>General Feedback</td>\n",
       "      <td>Bank of Abyssinia</td>\n",
       "      <td>5</td>\n",
       "    </tr>\n",
       "  </tbody>\n",
       "</table>\n",
       "<p>468 rows × 7 columns</p>\n",
       "</div>"
      ],
      "text/plain": [
       "      review_id                 review_text sentiment_label  sentiment_score  \\\n",
       "4601       4601                 exceptional        positive         0.999851   \n",
       "4602       4602        boa mobile good bank        positive         0.998473   \n",
       "4606       4606  nice abyssinia bank choice        positive         0.999583   \n",
       "4608       4608                good service        positive         0.999853   \n",
       "4610       4610                        good        positive         0.999816   \n",
       "...         ...                         ...             ...              ...   \n",
       "6343       6343                         NaN        positive         0.600000   \n",
       "6347       6347                         NaN        positive         0.600000   \n",
       "6348       6348                 interesting        positive         0.999879   \n",
       "6349       6349                         NaN        positive         0.600000   \n",
       "6350       6350                         NaN        positive         0.600000   \n",
       "\n",
       "                    identified_theme(s)               bank  rating  \n",
       "4601                   General Feedback  Bank of Abyssinia       5  \n",
       "4602  Banking Services, User Experience  Bank of Abyssinia       5  \n",
       "4606                   General Feedback  Bank of Abyssinia       5  \n",
       "4608                    User Experience  Bank of Abyssinia       3  \n",
       "4610                    User Experience  Bank of Abyssinia       5  \n",
       "...                                 ...                ...     ...  \n",
       "6343                   General Feedback  Bank of Abyssinia       5  \n",
       "6347                   General Feedback  Bank of Abyssinia       5  \n",
       "6348                   General Feedback  Bank of Abyssinia       5  \n",
       "6349                   General Feedback  Bank of Abyssinia       3  \n",
       "6350                   General Feedback  Bank of Abyssinia       5  \n",
       "\n",
       "[468 rows x 7 columns]"
      ]
     },
     "execution_count": 11,
     "metadata": {},
     "output_type": "execute_result"
    }
   ],
   "source": [
    "boa_pos = df[(df[\"bank\"] == \"Bank of Abyssinia\") & (df[\"sentiment_label\"] == \"positive\")]\n",
    "boa_pos"
   ]
  },
  {
   "cell_type": "markdown",
   "id": "7f7aa018",
   "metadata": {},
   "source": [
    "2.3.1 Pain Points - Bank of Abyssinia"
   ]
  },
  {
   "cell_type": "code",
   "execution_count": 12,
   "id": "c28ea516",
   "metadata": {},
   "outputs": [
    {
     "data": {
      "application/vnd.microsoft.datawrangler.viewer.v0+json": {
       "columns": [
        {
         "name": "index",
         "rawType": "int64",
         "type": "integer"
        },
        {
         "name": "review_id",
         "rawType": "int64",
         "type": "integer"
        },
        {
         "name": "review_text",
         "rawType": "object",
         "type": "unknown"
        },
        {
         "name": "sentiment_label",
         "rawType": "object",
         "type": "string"
        },
        {
         "name": "sentiment_score",
         "rawType": "float64",
         "type": "float"
        },
        {
         "name": "identified_theme(s)",
         "rawType": "object",
         "type": "string"
        },
        {
         "name": "bank",
         "rawType": "object",
         "type": "string"
        },
        {
         "name": "rating",
         "rawType": "int64",
         "type": "integer"
        }
       ],
       "ref": "fa843d22-8baa-43a5-be56-89dab349e89c",
       "rows": [
        [
         "4599",
         "4599",
         "work",
         "negative",
         "-0.9997857213020324",
         "General Feedback",
         "Bank of Abyssinia",
         "3"
        ],
        [
         "4600",
         "4600",
         "hello face problem boa mobile app time enter phone number password app crash show error say boamobile close app bug try update reinstall clear cache work fix bug update need access account thank",
         "negative",
         "-0.999415159225464",
         "Security & Access, Banking Services, App Performance",
         "Bank of Abyssinia",
         "1"
        ],
        [
         "4603",
         "4603",
         "wor app loading",
         "negative",
         "-0.993474304676056",
         "General Feedback",
         "Bank of Abyssinia",
         "1"
        ],
        [
         "4604",
         "4604",
         "app interest android phone update",
         "negative",
         "-0.9971383810043336",
         "General Feedback",
         "Bank of Abyssinia",
         "1"
        ],
        [
         "4605",
         "4605",
         "boa system confartable",
         "negative",
         "-0.9980142116546632",
         "General Feedback",
         "Bank of Abyssinia",
         "5"
        ],
        [
         "4607",
         "4607",
         "app waste time work long piss fix problem",
         "negative",
         "-0.99980491399765",
         "App Performance",
         "Bank of Abyssinia",
         "1"
        ],
        [
         "4609",
         "4609",
         "app crush frequently",
         "negative",
         "-0.998525083065033",
         "General Feedback",
         "Bank of Abyssinia",
         "1"
        ],
        [
         "4611",
         "4611",
         "guy keep get bad",
         "negative",
         "-0.9997075200080872",
         "General Feedback",
         "Bank of Abyssinia",
         "1"
        ],
        [
         "4613",
         "4613",
         "app joke crash work take forever load half feature decorative point log transfer money check balance bug developer actually try work kind social experiment test patience build sleep definitely look like idea functional app maybe consider different career path",
         "negative",
         "-0.999026656150818",
         "Banking Services, Technical Features, App Performance",
         "Bank of Abyssinia",
         "1"
        ],
        [
         "4614",
         "4614",
         "boa",
         "negative",
         "-0.74105304479599",
         "General Feedback",
         "Bank of Abyssinia",
         "2"
        ],
        [
         "4616",
         "4616",
         "open android",
         "negative",
         "-0.9952228665351868",
         "General Feedback",
         "Bank of Abyssinia",
         "4"
        ],
        [
         "4617",
         "4617",
         "bad app totally unreliable work month",
         "negative",
         "-0.9997984766960144",
         "Banking Services, App Performance",
         "Bank of Abyssinia",
         "1"
        ],
        [
         "4621",
         "4621",
         "app work samsung give preview logo",
         "negative",
         "-0.9992283582687378",
         "App Performance",
         "Bank of Abyssinia",
         "1"
        ],
        [
         "4623",
         "4623",
         "enter incorrect security question mistake boa app lock pin forever option contact different branch able solve issue",
         "negative",
         "-0.9994921684265136",
         "Security & Access, Banking Services, Technical Features, App Performance",
         "Bank of Abyssinia",
         "5"
        ],
        [
         "4626",
         "4626",
         "app future good problem app reset activate difficult branch staff take long time active branch plus time high expect failure activation process counter otp sent work",
         "negative",
         "-0.9989790916442872",
         "Security & Access, User Experience, App Performance",
         "Bank of Abyssinia",
         "1"
        ],
        [
         "4632",
         "4632",
         "bad app stick open note work",
         "negative",
         "-0.9995198249816896",
         "Banking Services, App Performance",
         "Bank of Abyssinia",
         "1"
        ],
        [
         "4633",
         "4633",
         "app work ask password start load open",
         "negative",
         "-0.9997255206108092",
         "Security & Access, App Performance",
         "Bank of Abyssinia",
         "3"
        ],
        [
         "4635",
         "4635",
         "keep show pop turn developer option tho turn work horrible experience need fix asap plus kinda slow",
         "negative",
         "-0.999669909477234",
         "Technical Features, App Performance",
         "Bank of Abyssinia",
         "1"
        ],
        [
         "4636",
         "4636",
         "yideg",
         "negative",
         "-0.767581045627594",
         "General Feedback",
         "Bank of Abyssinia",
         "1"
        ],
        [
         "4639",
         "4639",
         "boa mobile backing",
         "negative",
         "-0.980626106262207",
         "Banking Services",
         "Bank of Abyssinia",
         "5"
        ],
        [
         "4642",
         "4642",
         "give low possible crush bank long fix bug",
         "negative",
         "-0.9996716976165771",
         "App Performance",
         "Bank of Abyssinia",
         "1"
        ],
        [
         "4643",
         "4643",
         "work frustrating",
         "negative",
         "-0.999774158000946",
         "General Feedback",
         "Bank of Abyssinia",
         "1"
        ],
        [
         "4645",
         "4645",
         "work correctly update",
         "negative",
         "-0.9998013377189636",
         "General Feedback",
         "Bank of Abyssinia",
         "1"
        ],
        [
         "4647",
         "4647",
         "type password say successfully log go page",
         "negative",
         "-0.5856848359107971",
         "Security & Access",
         "Bank of Abyssinia",
         "2"
        ],
        [
         "4648",
         "4648",
         "good update add new thing",
         "negative",
         "-0.9693678617477416",
         "User Experience",
         "Bank of Abyssinia",
         "3"
        ],
        [
         "4651",
         "4651",
         "work period z slow mobile banking use",
         "negative",
         "-0.9990907907485962",
         "Banking Services, App Performance",
         "Bank of Abyssinia",
         "1"
        ],
        [
         "4652",
         "4652",
         "activate application allow sign automatically turn phone",
         "negative",
         "-0.9973751306533812",
         "General Feedback",
         "Bank of Abyssinia",
         "1"
        ],
        [
         "4654",
         "4654",
         "version work buy card send money",
         "negative",
         "-0.9995684027671814",
         "Banking Services",
         "Bank of Abyssinia",
         "1"
        ],
        [
         "4655",
         "4655",
         "actively initialization say incorrect otp get exact otp",
         "negative",
         "-0.9996182918548584",
         "Security & Access",
         "Bank of Abyssinia",
         "1"
        ],
        [
         "4656",
         "4656",
         "problematic hardly work",
         "negative",
         "-0.99955552816391",
         "App Performance",
         "Bank of Abyssinia",
         "1"
        ],
        [
         "4657",
         "4657",
         "consider fact bank huge app bad well",
         "negative",
         "-0.9997418522834778",
         "General Feedback",
         "Bank of Abyssinia",
         "1"
        ],
        [
         "4660",
         "4660",
         "bad app bank u ashamed scammer",
         "negative",
         "-0.9998050332069396",
         "Banking Services, App Performance",
         "Bank of Abyssinia",
         "1"
        ],
        [
         "4663",
         "4663",
         "go bank time transaction balance point have mobile banking transaction work",
         "negative",
         "-0.9988333582878112",
         "Banking Services",
         "Bank of Abyssinia",
         "1"
        ],
        [
         "4666",
         "4666",
         "speed",
         "negative",
         "-0.9994422793388368",
         "General Feedback",
         "Bank of Abyssinia",
         "1"
        ],
        [
         "4667",
         "4667",
         "want download",
         "negative",
         "-0.999398112297058",
         "General Feedback",
         "Bank of Abyssinia",
         "1"
        ],
        [
         "4669",
         "4669",
         "worck",
         "negative",
         "-0.9971314668655396",
         "General Feedback",
         "Bank of Abyssinia",
         "5"
        ],
        [
         "4673",
         "4673",
         "edit new bug app let type otp code shameful app allow use have developer option consider actual developer expect toggle option bank restart phone message lable somthe smoothen experience like security consultant thing implement app invest actual security mess",
         "negative",
         "-0.9985970854759216",
         "Security & Access, User Experience, App Performance, Technical Features",
         "Bank of Abyssinia",
         "1"
        ],
        [
         "4675",
         "4675",
         "boa",
         "negative",
         "-0.74105304479599",
         "General Feedback",
         "Bank of Abyssinia",
         "5"
        ],
        [
         "4676",
         "4676",
         "decent problem say error transfer money infact transfer bug transfer time instead transfer money telebirr acc self boe dev fix",
         "negative",
         "-0.99748432636261",
         "Banking Services, App Performance",
         "Bank of Abyssinia",
         "3"
        ],
        [
         "4677",
         "4677",
         "boa greqt ethiopian bank",
         "negative",
         "-0.8457717895507812",
         "General Feedback",
         "Bank of Abyssinia",
         "5"
        ],
        [
         "4678",
         "4678",
         "bug app crash time try log especially old phone like galaxy",
         "negative",
         "-0.9994600415229796",
         "App Performance",
         "Bank of Abyssinia",
         "1"
        ],
        [
         "4679",
         "4679",
         "well compare cbe qualified",
         "negative",
         "-0.974167823791504",
         "General Feedback",
         "Bank of Abyssinia",
         "4"
        ],
        [
         "4682",
         "4682",
         "use app",
         "negative",
         "-0.9993101358413696",
         "User Experience",
         "Bank of Abyssinia",
         "5"
        ],
        [
         "4683",
         "4683",
         "bad mobile banking app experience blame app compare well clash take long time login load short complete trash",
         "negative",
         "-0.9997013211250304",
         "Security & Access, Banking Services",
         "Bank of Abyssinia",
         "1"
        ],
        [
         "4685",
         "4685",
         "bro bad app human kind software engineer sad see enterprise big boa app like disgrace country",
         "negative",
         "-0.9998133778572084",
         "Banking Services, App Performance",
         "Bank of Abyssinia",
         "1"
        ],
        [
         "4686",
         "4686",
         "aga b girja miss language admin afaan oromo itoophiyaa language",
         "negative",
         "-0.9959415793418884",
         "General Feedback",
         "Bank of Abyssinia",
         "1"
        ],
        [
         "4688",
         "4688",
         "download app time read customer review soon instal open app close automatically unserious bank uninstalle app immediately",
         "negative",
         "-0.9916398525238036",
         "Technical Features",
         "Bank of Abyssinia",
         "1"
        ],
        [
         "4689",
         "4689",
         "good feature work",
         "negative",
         "-0.9956711530685424",
         "User Experience, Technical Features",
         "Bank of Abyssinia",
         "1"
        ],
        [
         "4690",
         "4690",
         "poor proformance",
         "negative",
         "-0.9998043179512024",
         "General Feedback",
         "Bank of Abyssinia",
         "1"
        ],
        [
         "4691",
         "4691",
         "open frustrate",
         "negative",
         "-0.9997020363807678",
         "General Feedback",
         "Bank of Abyssinia",
         "1"
        ]
       ],
       "shape": {
        "columns": 7,
        "rows": 562
       }
      },
      "text/html": [
       "<div>\n",
       "<style scoped>\n",
       "    .dataframe tbody tr th:only-of-type {\n",
       "        vertical-align: middle;\n",
       "    }\n",
       "\n",
       "    .dataframe tbody tr th {\n",
       "        vertical-align: top;\n",
       "    }\n",
       "\n",
       "    .dataframe thead th {\n",
       "        text-align: right;\n",
       "    }\n",
       "</style>\n",
       "<table border=\"1\" class=\"dataframe\">\n",
       "  <thead>\n",
       "    <tr style=\"text-align: right;\">\n",
       "      <th></th>\n",
       "      <th>review_id</th>\n",
       "      <th>review_text</th>\n",
       "      <th>sentiment_label</th>\n",
       "      <th>sentiment_score</th>\n",
       "      <th>identified_theme(s)</th>\n",
       "      <th>bank</th>\n",
       "      <th>rating</th>\n",
       "    </tr>\n",
       "  </thead>\n",
       "  <tbody>\n",
       "    <tr>\n",
       "      <th>4599</th>\n",
       "      <td>4599</td>\n",
       "      <td>work</td>\n",
       "      <td>negative</td>\n",
       "      <td>-0.999786</td>\n",
       "      <td>General Feedback</td>\n",
       "      <td>Bank of Abyssinia</td>\n",
       "      <td>3</td>\n",
       "    </tr>\n",
       "    <tr>\n",
       "      <th>4600</th>\n",
       "      <td>4600</td>\n",
       "      <td>hello face problem boa mobile app time enter p...</td>\n",
       "      <td>negative</td>\n",
       "      <td>-0.999415</td>\n",
       "      <td>Security &amp; Access, Banking Services, App Perfo...</td>\n",
       "      <td>Bank of Abyssinia</td>\n",
       "      <td>1</td>\n",
       "    </tr>\n",
       "    <tr>\n",
       "      <th>4603</th>\n",
       "      <td>4603</td>\n",
       "      <td>wor app loading</td>\n",
       "      <td>negative</td>\n",
       "      <td>-0.993474</td>\n",
       "      <td>General Feedback</td>\n",
       "      <td>Bank of Abyssinia</td>\n",
       "      <td>1</td>\n",
       "    </tr>\n",
       "    <tr>\n",
       "      <th>4604</th>\n",
       "      <td>4604</td>\n",
       "      <td>app interest android phone update</td>\n",
       "      <td>negative</td>\n",
       "      <td>-0.997138</td>\n",
       "      <td>General Feedback</td>\n",
       "      <td>Bank of Abyssinia</td>\n",
       "      <td>1</td>\n",
       "    </tr>\n",
       "    <tr>\n",
       "      <th>4605</th>\n",
       "      <td>4605</td>\n",
       "      <td>boa system confartable</td>\n",
       "      <td>negative</td>\n",
       "      <td>-0.998014</td>\n",
       "      <td>General Feedback</td>\n",
       "      <td>Bank of Abyssinia</td>\n",
       "      <td>5</td>\n",
       "    </tr>\n",
       "    <tr>\n",
       "      <th>...</th>\n",
       "      <td>...</td>\n",
       "      <td>...</td>\n",
       "      <td>...</td>\n",
       "      <td>...</td>\n",
       "      <td>...</td>\n",
       "      <td>...</td>\n",
       "      <td>...</td>\n",
       "    </tr>\n",
       "    <tr>\n",
       "      <th>6341</th>\n",
       "      <td>6341</td>\n",
       "      <td>say update able store bohla screeneshot screen...</td>\n",
       "      <td>negative</td>\n",
       "      <td>-0.949988</td>\n",
       "      <td>General Feedback</td>\n",
       "      <td>Bank of Abyssinia</td>\n",
       "      <td>4</td>\n",
       "    </tr>\n",
       "    <tr>\n",
       "      <th>6342</th>\n",
       "      <td>6342</td>\n",
       "      <td>country need help pilease new app ethiopian te...</td>\n",
       "      <td>negative</td>\n",
       "      <td>-0.999101</td>\n",
       "      <td>General Feedback</td>\n",
       "      <td>Bank of Abyssinia</td>\n",
       "      <td>1</td>\n",
       "    </tr>\n",
       "    <tr>\n",
       "      <th>6344</th>\n",
       "      <td>6344</td>\n",
       "      <td>swallow exit exit</td>\n",
       "      <td>negative</td>\n",
       "      <td>-0.991544</td>\n",
       "      <td>General Feedback</td>\n",
       "      <td>Bank of Abyssinia</td>\n",
       "      <td>2</td>\n",
       "    </tr>\n",
       "    <tr>\n",
       "      <th>6345</th>\n",
       "      <td>6345</td>\n",
       "      <td>boa app slow innocentive sadden</td>\n",
       "      <td>negative</td>\n",
       "      <td>-0.996524</td>\n",
       "      <td>Banking Services, App Performance</td>\n",
       "      <td>Bank of Abyssinia</td>\n",
       "      <td>1</td>\n",
       "    </tr>\n",
       "    <tr>\n",
       "      <th>6346</th>\n",
       "      <td>6346</td>\n",
       "      <td>michael bank practice mission telet</td>\n",
       "      <td>negative</td>\n",
       "      <td>-0.994454</td>\n",
       "      <td>General Feedback</td>\n",
       "      <td>Bank of Abyssinia</td>\n",
       "      <td>1</td>\n",
       "    </tr>\n",
       "  </tbody>\n",
       "</table>\n",
       "<p>562 rows × 7 columns</p>\n",
       "</div>"
      ],
      "text/plain": [
       "      review_id                                        review_text  \\\n",
       "4599       4599                                               work   \n",
       "4600       4600  hello face problem boa mobile app time enter p...   \n",
       "4603       4603                                    wor app loading   \n",
       "4604       4604                  app interest android phone update   \n",
       "4605       4605                             boa system confartable   \n",
       "...         ...                                                ...   \n",
       "6341       6341  say update able store bohla screeneshot screen...   \n",
       "6342       6342  country need help pilease new app ethiopian te...   \n",
       "6344       6344                                  swallow exit exit   \n",
       "6345       6345                    boa app slow innocentive sadden   \n",
       "6346       6346                michael bank practice mission telet   \n",
       "\n",
       "     sentiment_label  sentiment_score  \\\n",
       "4599        negative        -0.999786   \n",
       "4600        negative        -0.999415   \n",
       "4603        negative        -0.993474   \n",
       "4604        negative        -0.997138   \n",
       "4605        negative        -0.998014   \n",
       "...              ...              ...   \n",
       "6341        negative        -0.949988   \n",
       "6342        negative        -0.999101   \n",
       "6344        negative        -0.991544   \n",
       "6345        negative        -0.996524   \n",
       "6346        negative        -0.994454   \n",
       "\n",
       "                                    identified_theme(s)               bank  \\\n",
       "4599                                   General Feedback  Bank of Abyssinia   \n",
       "4600  Security & Access, Banking Services, App Perfo...  Bank of Abyssinia   \n",
       "4603                                   General Feedback  Bank of Abyssinia   \n",
       "4604                                   General Feedback  Bank of Abyssinia   \n",
       "4605                                   General Feedback  Bank of Abyssinia   \n",
       "...                                                 ...                ...   \n",
       "6341                                   General Feedback  Bank of Abyssinia   \n",
       "6342                                   General Feedback  Bank of Abyssinia   \n",
       "6344                                   General Feedback  Bank of Abyssinia   \n",
       "6345                  Banking Services, App Performance  Bank of Abyssinia   \n",
       "6346                                   General Feedback  Bank of Abyssinia   \n",
       "\n",
       "      rating  \n",
       "4599       3  \n",
       "4600       1  \n",
       "4603       1  \n",
       "4604       1  \n",
       "4605       5  \n",
       "...      ...  \n",
       "6341       4  \n",
       "6342       1  \n",
       "6344       2  \n",
       "6345       1  \n",
       "6346       1  \n",
       "\n",
       "[562 rows x 7 columns]"
      ]
     },
     "execution_count": 12,
     "metadata": {},
     "output_type": "execute_result"
    }
   ],
   "source": [
    "boa_neg = df[(df[\"bank\"] == \"Bank of Abyssinia\") & (df[\"sentiment_label\"] == \"negative\")]\n",
    "boa_neg"
   ]
  },
  {
   "cell_type": "markdown",
   "id": "de8720f2",
   "metadata": {},
   "source": [
    "3. Visualizations"
   ]
  },
  {
   "cell_type": "markdown",
   "id": "9a642e4f",
   "metadata": {},
   "source": [
    "3.1 Sentiment Distribution per Bank"
   ]
  },
  {
   "cell_type": "code",
   "execution_count": 13,
   "id": "f7212567",
   "metadata": {},
   "outputs": [
    {
     "data": {
      "image/png": "[encoded data removed]",
      "text/plain": [
       "<Figure size 1000x600 with 1 Axes>"
      ]
     },
     "metadata": {},
     "output_type": "display_data"
    }
   ],
   "source": [
    "import seaborn as sns\n",
    "import matplotlib.pyplot as plt\n",
    "\n",
    "plt.figure(figsize=(10, 6))\n",
    "sns.countplot(data=df, x=\"bank\", hue=\"sentiment_label\")\n",
    "plt.title(\"Sentiment Distribution per Bank\")\n",
    "plt.ylabel(\"Review Count\")\n",
    "plt.show()\n"
   ]
  },
  {
   "cell_type": "code",
   "execution_count": 34,
   "id": "993b82bf",
   "metadata": {},
   "outputs": [
    {
     "name": "stderr",
     "output_type": "stream",
     "text": [
      "C:\\Users\\user\\AppData\\Local\\Temp\\ipykernel_15308\\68662476.py:9: FutureWarning: \n",
      "\n",
      "Passing `palette` without assigning `hue` is deprecated and will be removed in v0.14.0. Assign the `y` variable to `hue` and set `legend=False` for the same effect.\n",
      "\n",
      "  sns.barplot(x=avg_sentiment_by_theme.values, y=avg_sentiment_by_theme.index, palette=\"coolwarm\")\n"
     ]
    },
    {
     "data": {
      "image/png": "[encoded data removed]",
      "text/plain": [
       "<Figure size 1000x600 with 1 Axes>"
      ]
     },
     "metadata": {},
     "output_type": "display_data"
    }
   ],
   "source": [
    "avg_sentiment_by_theme = (\n",
    "    df.groupby(\"identified_theme(s)\")[\"sentiment_score\"]\n",
    "    .mean()\n",
    "    .sort_values(ascending=False)\n",
    ")\n",
    "\n",
    "# Plot\n",
    "plt.figure(figsize=(10, 6))\n",
    "sns.barplot(x=avg_sentiment_by_theme.values, y=avg_sentiment_by_theme.index, palette=\"coolwarm\")\n",
    "plt.xlabel(\"Average Sentiment Score\")\n",
    "plt.ylabel(\"Theme\")\n",
    "plt.title(\"Average Sentiment Score per Theme\")\n",
    "plt.tight_layout()\n",
    "plt.show()"
   ]
  },
  {
   "cell_type": "markdown",
   "id": "dfd8ecbf",
   "metadata": {},
   "source": [
    "3.2 Rating Distribution"
   ]
  },
  {
   "cell_type": "code",
   "execution_count": 14,
   "id": "a098c31e",
   "metadata": {},
   "outputs": [
    {
     "data": {
      "image/png": "[encoded data removed]",
      "text/plain": [
       "<Figure size 800x500 with 1 Axes>"
      ]
     },
     "metadata": {},
     "output_type": "display_data"
    }
   ],
   "source": [
    "plt.figure(figsize=(8, 5))\n",
    "sns.histplot(data=df, x=\"rating\", bins=5, kde=True)\n",
    "plt.title(\"Overall Rating Distribution\")\n",
    "plt.show()\n"
   ]
  },
  {
   "cell_type": "markdown",
   "id": "e9ca91e1",
   "metadata": {},
   "source": [
    "3.3 Word Clouds for Sentiments"
   ]
  },
  {
   "cell_type": "code",
   "execution_count": 15,
   "id": "3324b1b3",
   "metadata": {},
   "outputs": [
    {
     "data": {
      "image/png": "[encoded data removed]",
      "text/plain": [
       "<Figure size 640x480 with 1 Axes>"
      ]
     },
     "metadata": {},
     "output_type": "display_data"
    }
   ],
   "source": [
    "from wordcloud import WordCloud\n",
    "\n",
    "# Positive reviews\n",
    "text_pos = \" \".join(df[df[\"sentiment_label\"] == \"positive\"][\"review_text\"].dropna())\n",
    "wc_pos = WordCloud(width=800, height=400, background_color='white').generate(text_pos)\n",
    "\n",
    "plt.imshow(wc_pos, interpolation='bilinear')\n",
    "plt.axis('off')\n",
    "plt.title(\"Positive Reviews Word Cloud\")\n",
    "plt.show()\n"
   ]
  },
  {
   "cell_type": "markdown",
   "id": "ef014b9c",
   "metadata": {},
   "source": [
    "4. Bank Comparison"
   ]
  },
  {
   "cell_type": "code",
   "execution_count": 19,
   "id": "b534537e",
   "metadata": {},
   "outputs": [
    {
     "name": "stdout",
     "output_type": "stream",
     "text": [
      "                             avg_sentiment  avg_rating  crash_mentions\n",
      "bank                                                                  \n",
      "Bank of Abyssinia                -0.087180    3.047573              46\n",
      "Commercial Bank of Ethiopia       0.398107    4.081528              36\n",
      "Dashen Bank                       0.591307    4.478747               1\n"
     ]
    }
   ],
   "source": [
    "comparison = df.groupby(\"bank\").agg(\n",
    "    avg_sentiment=(\"sentiment_score\", \"mean\"),\n",
    "    avg_rating=(\"rating\", \"mean\"),\n",
    "    crash_mentions=(\"review_text\", lambda x: x.str.contains(\"crash\").sum())\n",
    ")\n",
    "print(comparison)"
   ]
  },
  {
   "cell_type": "code",
   "execution_count": 33,
   "id": "ccb038d0",
   "metadata": {},
   "outputs": [
    {
     "name": "stdout",
     "output_type": "stream",
     "text": [
      "                             avg_sentiment  avg_rating  crash_mentions\n",
      "bank                                                                  \n",
      "Bank of Abyssinia                -0.087180    3.047573               0\n",
      "Commercial Bank of Ethiopia       0.398107    4.081528               0\n",
      "Dashen Bank                       0.591307    4.478747               0\n"
     ]
    }
   ],
   "source": [
    "login_error = df.groupby(\"bank\").agg(\n",
    "    avg_sentiment=(\"sentiment_score\", \"mean\"),\n",
    "    avg_rating=(\"rating\", \"mean\"),\n",
    "    crash_mentions=(\"review_text\", lambda x: x.str.contains(\"login error\").sum())\n",
    ")\n",
    "print(login_error)"
   ]
  },
  {
   "cell_type": "markdown",
   "id": "a5ac95fe",
   "metadata": {},
   "source": [
    "5, Tabular visualization of comparisons"
   ]
  },
  {
   "cell_type": "code",
   "execution_count": 28,
   "id": "05749965",
   "metadata": {},
   "outputs": [
    {
     "name": "stdout",
     "output_type": "stream",
     "text": [
      "Collecting tabulate\n",
      "  Downloading tabulate-0.9.0-py3-none-any.whl.metadata (34 kB)\n",
      "Downloading tabulate-0.9.0-py3-none-any.whl (35 kB)\n",
      "Installing collected packages: tabulate\n",
      "Successfully installed tabulate-0.9.0\n",
      "Note: you may need to restart the kernel to use updated packages.\n"
     ]
    },
    {
     "name": "stderr",
     "output_type": "stream",
     "text": [
      "WARNING: Retrying (Retry(total=4, connect=None, read=None, redirect=None, status=None)) after connection broken by 'NewConnectionError('<pip._vendor.urllib3.connection.HTTPSConnection object at 0x000001B70F226E40>: Failed to establish a new connection: [Errno 11001] getaddrinfo failed')': /simple/tabulate/\n",
      "WARNING: Retrying (Retry(total=3, connect=None, read=None, redirect=None, status=None)) after connection broken by 'NewConnectionError('<pip._vendor.urllib3.connection.HTTPSConnection object at 0x000001B70F0A7D90>: Failed to establish a new connection: [Errno 11001] getaddrinfo failed')': /simple/tabulate/\n",
      "WARNING: Retrying (Retry(total=2, connect=None, read=None, redirect=None, status=None)) after connection broken by 'NewConnectionError('<pip._vendor.urllib3.connection.HTTPSConnection object at 0x000001B70F2BC050>: Failed to establish a new connection: [Errno 11001] getaddrinfo failed')': /simple/tabulate/\n",
      "WARNING: Retrying (Retry(total=1, connect=None, read=None, redirect=None, status=None)) after connection broken by 'NewConnectionError('<pip._vendor.urllib3.connection.HTTPSConnection object at 0x000001B70F2BC2D0>: Failed to establish a new connection: [Errno 11001] getaddrinfo failed')': /simple/tabulate/\n",
      "WARNING: Retrying (Retry(total=0, connect=None, read=None, redirect=None, status=None)) after connection broken by 'NewConnectionError('<pip._vendor.urllib3.connection.HTTPSConnection object at 0x000001B70F2BC550>: Failed to establish a new connection: [Errno 11001] getaddrinfo failed')': /simple/tabulate/\n",
      "  WARNING: Retrying (Retry(total=4, connect=None, read=None, redirect=None, status=None)) after connection broken by 'NewConnectionError('<pip._vendor.urllib3.connection.HTTPSConnection object at 0x000001B70F2BDBD0>: Failed to establish a new connection: [Errno 11001] getaddrinfo failed')': /packages/40/44/4a5f08c96eb108af5cb50b41f76142f0afa346dfa99d5296fe7202a11854/tabulate-0.9.0-py3-none-any.whl.metadata\n"
     ]
    }
   ],
   "source": [
    "%pip install tabulate"
   ]
  },
  {
   "cell_type": "code",
   "execution_count": 31,
   "id": "18176a81",
   "metadata": {},
   "outputs": [
    {
     "name": "stdout",
     "output_type": "stream",
     "text": [
      "+-----------------------------+--------------------------+------------+\n",
      "|            Bank             |        Top Theme         |  Mentions  |\n",
      "+=============================+==========================+============+\n",
      "| Commercial Bank of Ethiopia |     General Feedback     |    2253    |\n",
      "+-----------------------------+--------------------------+------------+\n",
      "| Commercial Bank of Ethiopia | User Experience & Design |    1908    |\n",
      "+-----------------------------+--------------------------+------------+\n",
      "| Commercial Bank of Ethiopia | Functionality & Features |    784     |\n",
      "+-----------------------------+--------------------------+------------+\n",
      "|      Bank of Abyssinia      |     General Feedback     |    506     |\n",
      "+-----------------------------+--------------------------+------------+\n",
      "|      Bank of Abyssinia      |     User Experience      |    256     |\n",
      "+-----------------------------+--------------------------+------------+\n",
      "|      Bank of Abyssinia      |     App Performance      |    193     |\n",
      "+-----------------------------+--------------------------+------------+\n",
      "|         Dashen Bank         |     User Experience      |    178     |\n",
      "+-----------------------------+--------------------------+------------+\n",
      "|         Dashen Bank         |     General Feedback     |    167     |\n",
      "+-----------------------------+--------------------------+------------+\n",
      "|         Dashen Bank         |     Digital Banking      |    116     |\n",
      "+-----------------------------+--------------------------+------------+\n"
     ]
    }
   ],
   "source": [
    "import pandas as pd\n",
    "from tabulate import tabulate\n",
    "\n",
    "# Your existing data preparation\n",
    "bank1, bank2, bank3 = 'Commercial Bank of Ethiopia', 'Bank of Abyssinia', 'Dashen Bank'\n",
    "bank_comparison = df[df['bank'].isin([bank1, bank2, bank3])]\n",
    "\n",
    "# Theme comparison with better formatting\n",
    "def get_top_themes(bank_df):\n",
    "    return (\n",
    "        bank_df['identified_theme(s)']\n",
    "        .str.split(',')\n",
    "        .explode()\n",
    "        .str.strip()\n",
    "        .value_counts()\n",
    "        .head(3)\n",
    "    )\n",
    "\n",
    "# Create a dictionary of top themes\n",
    "theme_report = {\n",
    "    bank: get_top_themes(bank_comparison[bank_comparison['bank'] == bank])\n",
    "    for bank in [bank1, bank2, bank3]\n",
    "}\n",
    "\n",
    "# Convert to a clean table format\n",
    "table_data = []\n",
    "for bank, themes in theme_report.items():\n",
    "    for theme, count in themes.items():\n",
    "        table_data.append([bank, theme, count])\n",
    "\n",
    "# Print as formatted table\n",
    "print(tabulate(table_data, \n",
    "               headers=['Bank', 'Top Theme', 'Mentions'], \n",
    "               tablefmt='grid',\n",
    "               stralign='center',\n",
    "               numalign='center'))\n",
    "\n"
   ]
  },
  {
   "cell_type": "code",
   "execution_count": 32,
   "id": "328caec0",
   "metadata": {},
   "outputs": [
    {
     "name": "stdout",
     "output_type": "stream",
     "text": [
      "\n",
      "COMMERCIAL BANK OF ETHIOPIA - Top Themes:\n",
      "+--------------------------+----------+\n",
      "|          Theme           | Mentions |\n",
      "+--------------------------+----------+\n",
      "|     General Feedback     |   2253   |\n",
      "| User Experience & Design |   1908   |\n",
      "| Functionality & Features |   784    |\n",
      "+--------------------------+----------+\n",
      "\n",
      "BANK OF ABYSSINIA - Top Themes:\n",
      "+------------------+----------+\n",
      "|      Theme       | Mentions |\n",
      "+------------------+----------+\n",
      "| General Feedback |   506    |\n",
      "| User Experience  |   256    |\n",
      "| App Performance  |   193    |\n",
      "+------------------+----------+\n",
      "\n",
      "DASHEN BANK - Top Themes:\n",
      "+------------------+----------+\n",
      "|      Theme       | Mentions |\n",
      "+------------------+----------+\n",
      "| User Experience  |   178    |\n",
      "| General Feedback |   167    |\n",
      "| Digital Banking  |   116    |\n",
      "+------------------+----------+\n"
     ]
    }
   ],
   "source": [
    "# Alternative: As separate tables per bank\n",
    "for bank in [bank1, bank2, bank3]:\n",
    "    print(f\"\\n{bank.upper()} - Top Themes:\")\n",
    "    print(tabulate(\n",
    "        [[theme, count] for theme, count in theme_report[bank].items()],\n",
    "        headers=['Theme', 'Mentions'],\n",
    "        tablefmt='pretty'\n",
    "    ))"
   ]
  },
  {
   "cell_type": "markdown",
   "id": "455cc617",
   "metadata": {},
   "source": [
    "# Product & UX Improvement Suggestions\n",
    "1. Add In-App Budgeting & Expense Tracker\n",
    "Why: Many users complain about the lack of personal finance tools.\n",
    "\n",
    "Impact: Helps users manage money better, increasing engagement and app stickiness.\n",
    "\n",
    "2. Improve App Speed & Responsiveness\n",
    "Why: Negative reviews often mention laggy or slow interfaces, especially on older phones.\n",
    "\n",
    "How: Optimize backend API calls, reduce startup time, use local caching.\n",
    "\n",
    "3. Simplify Login Experience\n",
    "Why: Frequent complaints about session timeouts and re-login issues.\n",
    "\n",
    "Improvement: Add biometric login (fingerprint, face ID), and persistent sessions with secure token refresh.\n",
    "\n",
    "4. Provide Real-Time Support or Chatbot\n",
    "Why: Users feel frustrated when issues occur and support is unreachable.\n",
    "\n",
    "Solution: Add live chat or smart chatbot for instant help in-app.\n",
    "\n",
    "5. Local Language Support\n",
    "Why: Some users prefer or need UI in Amharic or Afan Oromo.\n",
    "\n",
    "Value: Improves accessibility and user comfort, especially for older users or those less fluent in English."
   ]
  }
 ],
 "metadata": {
  "kernelspec": {
   "display_name": "venv",
   "language": "python",
   "name": "python3"
  },
  "language_info": {
   "codemirror_mode": {
    "name": "ipython",
    "version": 3
   },
   "file_extension": ".py",
   "mimetype": "text/x-python",
   "name": "python",
   "nbconvert_exporter": "python",
   "pygments_lexer": "ipython3",
   "version": "3.13.3"
  }
 },
 "nbformat": 4,
 "nbformat_minor": 5
}
