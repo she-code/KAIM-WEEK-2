{
 "cells": [
  {
   "cell_type": "code",
   "execution_count": 1,
   "id": "37ae6536",
   "metadata": {},
   "outputs": [],
   "source": [
    "import cx_Oracle\n"
   ]
  },
  {
   "cell_type": "code",
   "execution_count": null,
   "id": "de64a8dc",
   "metadata": {},
   "outputs": [],
   "source": [
    "\n",
    "import pandas as pd\n",
    "\n",
    "# Read CSV\n",
    "df = pd.read_csv(\"../data/processed/enhanced_sentiment_analysis.csv\")\n",
    "\n",
    "conn = cx_Oracle.connect(\"bank_reviews/12345678@localhost:1521/XEPDB1\")\n",
    "cur = conn.cursor()\n",
    "\n",
    "# Insert banks and build bank name → id mapping\n",
    "bank_ids = {}\n",
    "banks = df[\"bank\"].unique()\n",
    "\n",
    "for bank_name in banks:\n",
    "    cur.execute(\"MERGE INTO banks b USING (SELECT :1 name FROM dual) d ON (b.name = d.name) WHEN NOT MATCHED THEN INSERT (name) VALUES (:1)\", [bank_name])\n",
    "    conn.commit()\n",
    "    cur.execute(\"SELECT bank_id FROM banks WHERE name = :1\", [bank_name])\n",
    "    bank_ids[bank_name] = cur.fetchone()[0]\n",
    "\n",
    "# Insert reviews\n",
    "for _, row in df.iterrows():\n",
    "    # Handle NaN values for numeric and string columns\n",
    "    review_id = int(row[\"review_id\"]) if pd.notnull(row[\"review_id\"]) else None\n",
    "    bank_id = bank_ids[row[\"bank\"]]\n",
    "    review_text = row[\"review_text\"] if pd.notnull(row[\"review_text\"]) else None\n",
    "    sentiment_label = row[\"sentiment_label\"] if pd.notnull(row[\"sentiment_label\"]) else None\n",
    "    sentiment_score = float(row[\"sentiment_score\"]) if pd.notnull(row[\"sentiment_score\"]) else None\n",
    "    identified_themes = row[\"identified_theme(s)\"] if pd.notnull(row[\"identified_theme(s)\"]) else None\n",
    "    rating = float(row[\"rating\"]) if pd.notnull(row[\"rating\"]) else None\n",
    "\n",
    "    cur.execute(\"\"\"\n",
    "        INSERT INTO reviews (\n",
    "            review_id, bank_id, review_text, sentiment_label, sentiment_score,\n",
    "            identified_themes, rating\n",
    "        ) VALUES (:1, :2, :3, :4, :5, :6, :7)\n",
    "    \"\"\", (\n",
    "        review_id,\n",
    "        bank_id,\n",
    "        review_text,\n",
    "        sentiment_label,\n",
    "        sentiment_score,\n",
    "        identified_themes,\n",
    "        rating\n",
    "    ))\n",
    "\n",
    "conn.commit()\n",
    "cur.close()\n",
    "conn.close()\n"
   ]
  },
  {
   "cell_type": "code",
   "execution_count": null,
   "id": "97b62548",
   "metadata": {},
   "outputs": [
    {
     "name": "stdout",
     "output_type": "stream",
     "text": [
      "✅ SQL dump created as bank_reviews_dump.sql\n"
     ]
    }
   ],
   "source": [
    "\n",
    "# Connect to Oracle\n",
    "conn = cx_Oracle.connect(\"bank_reviews/12345678@localhost:1521/XEPDB1\")\n",
    "cur = conn.cursor()\n",
    "\n",
    "# Tables to export\n",
    "tables = [\"BANKS\", \"REVIEWS\"]\n",
    "\n",
    "# Open file to write dump\n",
    "with open(\"../dumps/bank_reviews_dump.sql\", \"w\", encoding=\"utf-8\") as f:\n",
    "\n",
    "    # Step 1: Export schema (DDL)\n",
    "    for table in tables:\n",
    "        cur.execute(f\"\"\"\n",
    "            SELECT DBMS_METADATA.GET_DDL('TABLE', '{table}') FROM dual\n",
    "        \"\"\")\n",
    "        ddl = cur.fetchone()[0].read()  # CLOB to string\n",
    "        f.write(f\"-- DDL for {table}\\n{ddl};\\n\\n\")\n",
    "\n",
    "    # Step 2: Export data (INSERT statements)\n",
    "    for table in tables:\n",
    "        cur.execute(f\"SELECT * FROM {table}\")\n",
    "        rows = cur.fetchall()\n",
    "        columns = [col[0] for col in cur.description]\n",
    "\n",
    "        f.write(f\"-- Data for {table}\\n\")\n",
    "        for row in rows:\n",
    "            values = []\n",
    "            for val in row:\n",
    "                if val is None:\n",
    "                    values.append(\"NULL\")\n",
    "                elif isinstance(val, str):\n",
    "                    values.append(f\"'{val.replace(\"'\", \"''\")}'\")\n",
    "                else:\n",
    "                    values.append(str(val))\n",
    "            col_str = \", \".join(columns)\n",
    "            val_str = \", \".join(values)\n",
    "            f.write(f\"INSERT INTO {table} ({col_str}) VALUES ({val_str});\\n\")\n",
    "        f.write(\"\\n\")\n",
    "\n",
    "cur.close()\n",
    "conn.close()\n",
    "print(\"✅ SQL dump created as bank_reviews_dump.sql\")\n"
   ]
  }
 ],
 "metadata": {
  "kernelspec": {
   "display_name": "venv",
   "language": "python",
   "name": "python3"
  },
  "language_info": {
   "codemirror_mode": {
    "name": "ipython",
    "version": 3
   },
   "file_extension": ".py",
   "mimetype": "text/x-python",
   "name": "python",
   "nbconvert_exporter": "python",
   "pygments_lexer": "ipython3",
   "version": "3.13.3"
  }
 },
 "nbformat": 4,
 "nbformat_minor": 5
}
