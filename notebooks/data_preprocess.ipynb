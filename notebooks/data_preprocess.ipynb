{
 "cells": [
  {
   "cell_type": "code",
   "execution_count": null,
   "id": "f695dc05",
   "metadata": {},
   "outputs": [
    {
     "name": "stdout",
     "output_type": "stream",
     "text": [
      "Data loaded successfully from ../data/raw/Commercial Bank of Ethiopia_raw_reviews.csv\n",
      "Data loaded successfully from ../data/raw/Bank of Abyssinia_raw_reviews.csv\n",
      "Data loaded successfully from ../data/raw/Dashen Bank_raw_reviews.csv\n"
     ]
    }
   ],
   "source": [
    "\n",
    "import pandas as pd\n",
    "import numpy as np\n",
    "import matplotlib.pyplot as plt\n",
    "import seaborn as sns\n",
    "import sys\n",
    "sys.path.append('../src') \n",
    "\n",
    "from utils.data_loader import load_data\n",
    "from utils.data_loader import load_data\n",
    "\n",
    "# Load data\n",
    "df_cbe = load_data('../data/raw/Commercial Bank of Ethiopia_raw_reviews.csv')\n",
    "df_boa = load_data('../data/raw/Bank of Abyssinia_raw_reviews.csv')\n",
    "df_dsn = load_data('../data/raw/Dashen Bank_raw_reviews.csv')\n",
    "\n"
   ]
  },
  {
   "cell_type": "code",
   "execution_count": 2,
   "id": "8cc42a4e",
   "metadata": {},
   "outputs": [
    {
     "name": "stdout",
     "output_type": "stream",
     "text": [
      "<class 'pandas.core.frame.DataFrame'>\n",
      "RangeIndex: 5000 entries, 0 to 4999\n",
      "Data columns (total 5 columns):\n",
      " #   Column       Non-Null Count  Dtype \n",
      "---  ------       --------------  ----- \n",
      " 0   review_text  5000 non-null   object\n",
      " 1   rating       5000 non-null   int64 \n",
      " 2   date         5000 non-null   object\n",
      " 3   bank_name    5000 non-null   object\n",
      " 4   source       5000 non-null   object\n",
      "dtypes: int64(1), object(4)\n",
      "memory usage: 195.4+ KB\n"
     ]
    }
   ],
   "source": [
    "df_cbe.info()"
   ]
  },
  {
   "cell_type": "code",
   "execution_count": 3,
   "id": "848af7e7",
   "metadata": {},
   "outputs": [
    {
     "name": "stdout",
     "output_type": "stream",
     "text": [
      "<class 'pandas.core.frame.DataFrame'>\n",
      "RangeIndex: 1045 entries, 0 to 1044\n",
      "Data columns (total 5 columns):\n",
      " #   Column       Non-Null Count  Dtype \n",
      "---  ------       --------------  ----- \n",
      " 0   review_text  1045 non-null   object\n",
      " 1   rating       1045 non-null   int64 \n",
      " 2   date         1045 non-null   object\n",
      " 3   bank_name    1045 non-null   object\n",
      " 4   source       1045 non-null   object\n",
      "dtypes: int64(1), object(4)\n",
      "memory usage: 40.9+ KB\n"
     ]
    }
   ],
   "source": [
    "df_boa.info()"
   ]
  },
  {
   "cell_type": "code",
   "execution_count": 4,
   "id": "1b14fec6",
   "metadata": {},
   "outputs": [
    {
     "name": "stdout",
     "output_type": "stream",
     "text": [
      "<class 'pandas.core.frame.DataFrame'>\n",
      "RangeIndex: 448 entries, 0 to 447\n",
      "Data columns (total 5 columns):\n",
      " #   Column       Non-Null Count  Dtype \n",
      "---  ------       --------------  ----- \n",
      " 0   review_text  448 non-null    object\n",
      " 1   rating       448 non-null    int64 \n",
      " 2   date         448 non-null    object\n",
      " 3   bank_name    448 non-null    object\n",
      " 4   source       448 non-null    object\n",
      "dtypes: int64(1), object(4)\n",
      "memory usage: 17.6+ KB\n"
     ]
    }
   ],
   "source": [
    "df_dsn.info()"
   ]
  },
  {
   "cell_type": "markdown",
   "id": "c2693137",
   "metadata": {},
   "source": [
    "Data Preprocessing"
   ]
  },
  {
   "cell_type": "markdown",
   "id": "257063a5",
   "metadata": {},
   "source": [
    "1. Missing Values check and removal"
   ]
  },
  {
   "cell_type": "code",
   "execution_count": 8,
   "id": "34d96e78",
   "metadata": {},
   "outputs": [
    {
     "name": "stdout",
     "output_type": "stream",
     "text": [
      "review_text    0\n",
      "rating         0\n",
      "date           0\n",
      "bank_name      0\n",
      "source         0\n",
      "dtype: int64\n",
      "review_text    0\n",
      "rating         0\n",
      "date           0\n",
      "bank_name      0\n",
      "source         0\n",
      "dtype: int64\n",
      "review_text    0\n",
      "rating         0\n",
      "date           0\n",
      "bank_name      0\n",
      "source         0\n",
      "dtype: int64\n"
     ]
    }
   ],
   "source": [
    "print(df_cbe.isna().sum())\n",
    "print(df_boa.isna().sum())\n",
    "print(df_dsn.isna().sum())"
   ]
  },
  {
   "cell_type": "markdown",
   "id": "9c2ba249",
   "metadata": {},
   "source": [
    "We can see that all the datasets have no missing values"
   ]
  },
  {
   "cell_type": "markdown",
   "id": "5245e9f4",
   "metadata": {},
   "source": [
    "2. Duplicate Values"
   ]
  },
  {
   "cell_type": "code",
   "execution_count": 14,
   "id": "5a5526ea",
   "metadata": {},
   "outputs": [
    {
     "name": "stdout",
     "output_type": "stream",
     "text": [
      "0\n",
      "5\n",
      "1\n"
     ]
    }
   ],
   "source": [
    "print(df_cbe.duplicated().sum())\n",
    "print(df_boa.duplicated().sum())\n",
    "print(df_dsn.duplicated().sum())"
   ]
  },
  {
   "cell_type": "code",
   "execution_count": 11,
   "id": "bacd2b43",
   "metadata": {},
   "outputs": [
    {
     "name": "stdout",
     "output_type": "stream",
     "text": [
      "     review_text  rating        date                    bank_name       source\n",
      "8           good       5  2025-06-04  Commercial Bank of Ethiopia  Google Play\n",
      "11          good       5  2025-06-04  Commercial Bank of Ethiopia  Google Play\n",
      "67          good       5  2025-05-23  Commercial Bank of Ethiopia  Google Play\n",
      "70          good       5  2025-05-23  Commercial Bank of Ethiopia  Google Play\n",
      "72          good       5  2025-05-23  Commercial Bank of Ethiopia  Google Play\n",
      "...          ...     ...         ...                          ...          ...\n",
      "3640        Good       5  2024-01-05  Commercial Bank of Ethiopia  Google Play\n",
      "3680        Good       5  2023-12-30  Commercial Bank of Ethiopia  Google Play\n",
      "3681        Good       5  2023-12-30  Commercial Bank of Ethiopia  Google Play\n",
      "4005        Nice       5  2023-11-04  Commercial Bank of Ethiopia  Google Play\n",
      "4006        Nice       5  2023-11-04  Commercial Bank of Ethiopia  Google Play\n",
      "\n",
      "[150 rows x 5 columns]\n"
     ]
    }
   ],
   "source": [
    "# print the original plus the duplicate\n",
    "print(df_cbe[df_cbe.duplicated(keep=False)])"
   ]
  },
  {
   "cell_type": "code",
   "execution_count": 15,
   "id": "b57b7813",
   "metadata": {},
   "outputs": [
    {
     "name": "stdout",
     "output_type": "stream",
     "text": [
      "    review_text  rating        date          bank_name       source\n",
      "31         good       4  2025-04-30  Bank of Abyssinia  Google Play\n",
      "32         good       4  2025-04-30  Bank of Abyssinia  Google Play\n",
      "643        best       5  2024-05-02  Bank of Abyssinia  Google Play\n",
      "645        best       5  2024-05-02  Bank of Abyssinia  Google Play\n",
      "743        Best       5  2024-04-24  Bank of Abyssinia  Google Play\n",
      "748        Best       5  2024-04-24  Bank of Abyssinia  Google Play\n",
      "764        Good       5  2024-04-22  Bank of Abyssinia  Google Play\n",
      "765        Good       5  2024-04-22  Bank of Abyssinia  Google Play\n",
      "930    Best app       5  2024-02-16  Bank of Abyssinia  Google Play\n",
      "934    Best app       5  2024-02-16  Bank of Abyssinia  Google Play\n"
     ]
    }
   ],
   "source": [
    "print(df_boa[df_boa.duplicated(keep=False)])"
   ]
  },
  {
   "cell_type": "code",
   "execution_count": 16,
   "id": "a2241143",
   "metadata": {},
   "outputs": [
    {
     "name": "stdout",
     "output_type": "stream",
     "text": [
      "                         review_text  rating        date    bank_name  \\\n",
      "211  best mobile banking application       5  2025-04-21  Dashen Bank   \n",
      "213  best mobile banking application       5  2025-04-21  Dashen Bank   \n",
      "\n",
      "          source  \n",
      "211  Google Play  \n",
      "213  Google Play  \n"
     ]
    }
   ],
   "source": [
    "print(df_dsn[df_dsn.duplicated(keep=False)])"
   ]
  },
  {
   "cell_type": "code",
   "execution_count": 18,
   "id": "2a42ea01",
   "metadata": {},
   "outputs": [
    {
     "name": "stdout",
     "output_type": "stream",
     "text": [
      "0\n",
      "0\n",
      "0\n"
     ]
    }
   ],
   "source": [
    "# Remove duplicates\n",
    "df_cbe = df_cbe.drop_duplicates() \n",
    "df_boa = df_boa.drop_duplicates() \n",
    "df_dsn = df_dsn.drop_duplicates() \n",
    "\n",
    "print(df_cbe.duplicated().sum())\n",
    "print(df_boa.duplicated().sum())\n",
    "print(df_dsn.duplicated().sum())"
   ]
  },
  {
   "cell_type": "markdown",
   "id": "636c40ac",
   "metadata": {},
   "source": [
    "3. Normalize dates "
   ]
  },
  {
   "cell_type": "code",
   "execution_count": 24,
   "id": "4a7d15bd",
   "metadata": {},
   "outputs": [],
   "source": [
    "# Converts to datetime64[ns]\n",
    "df_cbe[\"date\"] = pd.to_datetime(df_cbe[\"date\"]).dt.strftime('%Y-%m-%d') \n",
    "df_boa[\"date\"] = pd.to_datetime(df_boa[\"date\"]).dt.strftime('%Y-%m-%d') \n",
    "df_dsn[\"date\"] = pd.to_datetime(df_dsn[\"date\"]).dt.strftime('%Y-%m-%d') \n"
   ]
  }
 ],
 "metadata": {
  "kernelspec": {
   "display_name": "venv",
   "language": "python",
   "name": "python3"
  },
  "language_info": {
   "codemirror_mode": {
    "name": "ipython",
    "version": 3
   },
   "file_extension": ".py",
   "mimetype": "text/x-python",
   "name": "python",
   "nbconvert_exporter": "python",
   "pygments_lexer": "ipython3",
   "version": "3.13.3"
  }
 },
 "nbformat": 4,
 "nbformat_minor": 5
}
