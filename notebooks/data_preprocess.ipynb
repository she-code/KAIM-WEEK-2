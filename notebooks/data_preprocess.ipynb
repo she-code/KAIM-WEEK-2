{
 "cells": [
  {
   "cell_type": "code",
   "execution_count": null,
   "id": "f695dc05",
   "metadata": {
    "vscode": {
     "languageId": "plaintext"
    }
   },
   "outputs": [],
   "source": [
    "\n",
    "import pandas as pd\n",
    "import numpy as np\n",
    "import matplotlib.pyplot as plt\n",
    "import seaborn as sns\n",
    "import sys\n",
    "sys.path.append('../src') \n",
    "\n",
    "from utils.data_loader import load_data\n",
    "\n",
    "# Load data\n",
    "df = load_data('../data/raw_analyst_ratings.csv')\n",
    "# print(df.head())"
   ]
  }
 ],
 "metadata": {
  "language_info": {
   "name": "python"
  }
 },
 "nbformat": 4,
 "nbformat_minor": 5
}
